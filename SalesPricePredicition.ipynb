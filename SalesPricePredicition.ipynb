{
  "cells": [
    {
      "cell_type": "markdown",
      "metadata": {
        "id": "thZheROvxcYP"
      },
      "source": [
        "#DATA 606 FINAL PROJECT"
      ]
    },
    {
      "cell_type": "markdown",
      "metadata": {
        "id": "-1NpVYj6l4uY"
      },
      "source": [
        "DATA SOURCE: https://www.kaggle.com/code/code1110/houseprice-data-cleaning-visualization/input"
      ]
    },
    {
      "cell_type": "markdown",
      "metadata": {
        "id": "8zuDfokkpDRv"
      },
      "source": [
        "# Introduction\n",
        "\n",
        "In an era where the real estate market is more dynamic than ever, accurately predicting the selling price of houses has become crucial. The real estate sector is a significant pillar of the economy, influencing both individual financial stability and broader economic trends. The task of accurately determining house prices is a complex challenge, influenced by a multitude of factors ranging from market conditions to individual property features. This complexity makes it an ideal candidate for the application of advanced analytical techniques.\n",
        "\n",
        "The goal of our project is to develop a dependable and effective model for forecasting the selling prices of houses. This effort aims to enhance transparency and efficiency in real estate transactions. Our approach involves leveraging logistic regression analysis to analyze vast datasets encompassing various aspects like location, property size, amenities, economic indicators, and historical price trends. By doing so, we aim to capture the nuanced interplay of factors that drive housing prices.\n"
      ]
    },
    {
      "cell_type": "markdown",
      "metadata": {
        "id": "_hIyAlIApFbW"
      },
      "source": [
        "#Purpose\n",
        "\n",
        "The overall objective of this project is to create a predictive model that can accurately predict the sale prices of houses. The importance of this model's predictions can serve multiple stakeholders in the real estate ecosystem, including buyers, sellers, and other real estate investors by providing them with valuable insights into property valuation. For homeowners and sellers, an accurate prediction model helps in setting competitive and fair prices for their properties. The prediction model will be created using various statistical approaches particularly focused on the Random forest regressor and Decision tree regressor approaches, in addition to Linear regression."
      ]
    },
    {
      "cell_type": "markdown",
      "metadata": {
        "id": "ubYCJR_OpG1X"
      },
      "source": [
        "#Methodology\n",
        "\n",
        "The project begins with data collection and preprocessing, encompassing data wrangling techniques to clean and format the housing dataset."
      ]
    },
    {
      "cell_type": "markdown",
      "metadata": {
        "id": "ZBlzR8JxIdsW"
      },
      "source": [
        "# Pre-Processing: Data Cleaning"
      ]
    },
    {
      "cell_type": "code",
      "execution_count": null,
      "metadata": {
        "id": "bSNz1jjrJOge"
      },
      "outputs": [],
      "source": [
        "#Import Libraries\n",
        "import pandas as pd\n",
        "import numpy as numpy\n",
        "import matplotlib.pyplot as plt\n",
        "import seaborn as sns\n",
        "import scipy.stats as stats\n",
        "from matplotlib import pyplot as plt\n",
        "from sklearn.model_selection import train_test_split,GridSearchCV,RandomizedSearchCV\n",
        "from sklearn.linear_model import LogisticRegression, LinearRegression\n",
        "from sklearn.ensemble import RandomForestRegressor\n",
        "from sklearn.tree import  plot_tree\n",
        "from sklearn.metrics import mean_squared_error,r2_score\n",
        "\n"
      ]
    },
    {
      "cell_type": "code",
      "execution_count": null,
      "metadata": {
        "colab": {
          "base_uri": "https://localhost:8080/",
          "height": 236
        },
        "id": "usAmiCAKy04W",
        "outputId": "14714aac-afd6-465a-92ac-f2b40abc9794"
      },
      "outputs": [
        {
          "output_type": "execute_result",
          "data": {
            "text/plain": [
              "   Id  MSSubClass MSZoning  LotFrontage  LotArea Street Alley LotShape  \\\n",
              "0   1          60       RL         65.0     8450   Pave   NaN      Reg   \n",
              "1   2          20       RL         80.0     9600   Pave   NaN      Reg   \n",
              "2   3          60       RL         68.0    11250   Pave   NaN      IR1   \n",
              "3   4          70       RL         60.0     9550   Pave   NaN      IR1   \n",
              "4   5          60       RL         84.0    14260   Pave   NaN      IR1   \n",
              "\n",
              "  LandContour Utilities  ... PoolArea PoolQC Fence MiscFeature MiscVal MoSold  \\\n",
              "0         Lvl    AllPub  ...        0    NaN   NaN         NaN       0      2   \n",
              "1         Lvl    AllPub  ...        0    NaN   NaN         NaN       0      5   \n",
              "2         Lvl    AllPub  ...        0    NaN   NaN         NaN       0      9   \n",
              "3         Lvl    AllPub  ...        0    NaN   NaN         NaN       0      2   \n",
              "4         Lvl    AllPub  ...        0    NaN   NaN         NaN       0     12   \n",
              "\n",
              "  YrSold  SaleType  SaleCondition  SalePrice  \n",
              "0   2008        WD         Normal     208500  \n",
              "1   2007        WD         Normal     181500  \n",
              "2   2008        WD         Normal     223500  \n",
              "3   2006        WD        Abnorml     140000  \n",
              "4   2008        WD         Normal     250000  \n",
              "\n",
              "[5 rows x 81 columns]"
            ],
            "text/html": [
              "\n",
              "  <div id=\"df-2d33557e-88a8-4184-b2ad-04d63dee8b11\" class=\"colab-df-container\">\n",
              "    <div>\n",
              "<style scoped>\n",
              "    .dataframe tbody tr th:only-of-type {\n",
              "        vertical-align: middle;\n",
              "    }\n",
              "\n",
              "    .dataframe tbody tr th {\n",
              "        vertical-align: top;\n",
              "    }\n",
              "\n",
              "    .dataframe thead th {\n",
              "        text-align: right;\n",
              "    }\n",
              "</style>\n",
              "<table border=\"1\" class=\"dataframe\">\n",
              "  <thead>\n",
              "    <tr style=\"text-align: right;\">\n",
              "      <th></th>\n",
              "      <th>Id</th>\n",
              "      <th>MSSubClass</th>\n",
              "      <th>MSZoning</th>\n",
              "      <th>LotFrontage</th>\n",
              "      <th>LotArea</th>\n",
              "      <th>Street</th>\n",
              "      <th>Alley</th>\n",
              "      <th>LotShape</th>\n",
              "      <th>LandContour</th>\n",
              "      <th>Utilities</th>\n",
              "      <th>...</th>\n",
              "      <th>PoolArea</th>\n",
              "      <th>PoolQC</th>\n",
              "      <th>Fence</th>\n",
              "      <th>MiscFeature</th>\n",
              "      <th>MiscVal</th>\n",
              "      <th>MoSold</th>\n",
              "      <th>YrSold</th>\n",
              "      <th>SaleType</th>\n",
              "      <th>SaleCondition</th>\n",
              "      <th>SalePrice</th>\n",
              "    </tr>\n",
              "  </thead>\n",
              "  <tbody>\n",
              "    <tr>\n",
              "      <th>0</th>\n",
              "      <td>1</td>\n",
              "      <td>60</td>\n",
              "      <td>RL</td>\n",
              "      <td>65.0</td>\n",
              "      <td>8450</td>\n",
              "      <td>Pave</td>\n",
              "      <td>NaN</td>\n",
              "      <td>Reg</td>\n",
              "      <td>Lvl</td>\n",
              "      <td>AllPub</td>\n",
              "      <td>...</td>\n",
              "      <td>0</td>\n",
              "      <td>NaN</td>\n",
              "      <td>NaN</td>\n",
              "      <td>NaN</td>\n",
              "      <td>0</td>\n",
              "      <td>2</td>\n",
              "      <td>2008</td>\n",
              "      <td>WD</td>\n",
              "      <td>Normal</td>\n",
              "      <td>208500</td>\n",
              "    </tr>\n",
              "    <tr>\n",
              "      <th>1</th>\n",
              "      <td>2</td>\n",
              "      <td>20</td>\n",
              "      <td>RL</td>\n",
              "      <td>80.0</td>\n",
              "      <td>9600</td>\n",
              "      <td>Pave</td>\n",
              "      <td>NaN</td>\n",
              "      <td>Reg</td>\n",
              "      <td>Lvl</td>\n",
              "      <td>AllPub</td>\n",
              "      <td>...</td>\n",
              "      <td>0</td>\n",
              "      <td>NaN</td>\n",
              "      <td>NaN</td>\n",
              "      <td>NaN</td>\n",
              "      <td>0</td>\n",
              "      <td>5</td>\n",
              "      <td>2007</td>\n",
              "      <td>WD</td>\n",
              "      <td>Normal</td>\n",
              "      <td>181500</td>\n",
              "    </tr>\n",
              "    <tr>\n",
              "      <th>2</th>\n",
              "      <td>3</td>\n",
              "      <td>60</td>\n",
              "      <td>RL</td>\n",
              "      <td>68.0</td>\n",
              "      <td>11250</td>\n",
              "      <td>Pave</td>\n",
              "      <td>NaN</td>\n",
              "      <td>IR1</td>\n",
              "      <td>Lvl</td>\n",
              "      <td>AllPub</td>\n",
              "      <td>...</td>\n",
              "      <td>0</td>\n",
              "      <td>NaN</td>\n",
              "      <td>NaN</td>\n",
              "      <td>NaN</td>\n",
              "      <td>0</td>\n",
              "      <td>9</td>\n",
              "      <td>2008</td>\n",
              "      <td>WD</td>\n",
              "      <td>Normal</td>\n",
              "      <td>223500</td>\n",
              "    </tr>\n",
              "    <tr>\n",
              "      <th>3</th>\n",
              "      <td>4</td>\n",
              "      <td>70</td>\n",
              "      <td>RL</td>\n",
              "      <td>60.0</td>\n",
              "      <td>9550</td>\n",
              "      <td>Pave</td>\n",
              "      <td>NaN</td>\n",
              "      <td>IR1</td>\n",
              "      <td>Lvl</td>\n",
              "      <td>AllPub</td>\n",
              "      <td>...</td>\n",
              "      <td>0</td>\n",
              "      <td>NaN</td>\n",
              "      <td>NaN</td>\n",
              "      <td>NaN</td>\n",
              "      <td>0</td>\n",
              "      <td>2</td>\n",
              "      <td>2006</td>\n",
              "      <td>WD</td>\n",
              "      <td>Abnorml</td>\n",
              "      <td>140000</td>\n",
              "    </tr>\n",
              "    <tr>\n",
              "      <th>4</th>\n",
              "      <td>5</td>\n",
              "      <td>60</td>\n",
              "      <td>RL</td>\n",
              "      <td>84.0</td>\n",
              "      <td>14260</td>\n",
              "      <td>Pave</td>\n",
              "      <td>NaN</td>\n",
              "      <td>IR1</td>\n",
              "      <td>Lvl</td>\n",
              "      <td>AllPub</td>\n",
              "      <td>...</td>\n",
              "      <td>0</td>\n",
              "      <td>NaN</td>\n",
              "      <td>NaN</td>\n",
              "      <td>NaN</td>\n",
              "      <td>0</td>\n",
              "      <td>12</td>\n",
              "      <td>2008</td>\n",
              "      <td>WD</td>\n",
              "      <td>Normal</td>\n",
              "      <td>250000</td>\n",
              "    </tr>\n",
              "  </tbody>\n",
              "</table>\n",
              "<p>5 rows × 81 columns</p>\n",
              "</div>\n",
              "    <div class=\"colab-df-buttons\">\n",
              "\n",
              "  <div class=\"colab-df-container\">\n",
              "    <button class=\"colab-df-convert\" onclick=\"convertToInteractive('df-2d33557e-88a8-4184-b2ad-04d63dee8b11')\"\n",
              "            title=\"Convert this dataframe to an interactive table.\"\n",
              "            style=\"display:none;\">\n",
              "\n",
              "  <svg xmlns=\"http://www.w3.org/2000/svg\" height=\"24px\" viewBox=\"0 -960 960 960\">\n",
              "    <path d=\"M120-120v-720h720v720H120Zm60-500h600v-160H180v160Zm220 220h160v-160H400v160Zm0 220h160v-160H400v160ZM180-400h160v-160H180v160Zm440 0h160v-160H620v160ZM180-180h160v-160H180v160Zm440 0h160v-160H620v160Z\"/>\n",
              "  </svg>\n",
              "    </button>\n",
              "\n",
              "  <style>\n",
              "    .colab-df-container {\n",
              "      display:flex;\n",
              "      gap: 12px;\n",
              "    }\n",
              "\n",
              "    .colab-df-convert {\n",
              "      background-color: #E8F0FE;\n",
              "      border: none;\n",
              "      border-radius: 50%;\n",
              "      cursor: pointer;\n",
              "      display: none;\n",
              "      fill: #1967D2;\n",
              "      height: 32px;\n",
              "      padding: 0 0 0 0;\n",
              "      width: 32px;\n",
              "    }\n",
              "\n",
              "    .colab-df-convert:hover {\n",
              "      background-color: #E2EBFA;\n",
              "      box-shadow: 0px 1px 2px rgba(60, 64, 67, 0.3), 0px 1px 3px 1px rgba(60, 64, 67, 0.15);\n",
              "      fill: #174EA6;\n",
              "    }\n",
              "\n",
              "    .colab-df-buttons div {\n",
              "      margin-bottom: 4px;\n",
              "    }\n",
              "\n",
              "    [theme=dark] .colab-df-convert {\n",
              "      background-color: #3B4455;\n",
              "      fill: #D2E3FC;\n",
              "    }\n",
              "\n",
              "    [theme=dark] .colab-df-convert:hover {\n",
              "      background-color: #434B5C;\n",
              "      box-shadow: 0px 1px 3px 1px rgba(0, 0, 0, 0.15);\n",
              "      filter: drop-shadow(0px 1px 2px rgba(0, 0, 0, 0.3));\n",
              "      fill: #FFFFFF;\n",
              "    }\n",
              "  </style>\n",
              "\n",
              "    <script>\n",
              "      const buttonEl =\n",
              "        document.querySelector('#df-2d33557e-88a8-4184-b2ad-04d63dee8b11 button.colab-df-convert');\n",
              "      buttonEl.style.display =\n",
              "        google.colab.kernel.accessAllowed ? 'block' : 'none';\n",
              "\n",
              "      async function convertToInteractive(key) {\n",
              "        const element = document.querySelector('#df-2d33557e-88a8-4184-b2ad-04d63dee8b11');\n",
              "        const dataTable =\n",
              "          await google.colab.kernel.invokeFunction('convertToInteractive',\n",
              "                                                    [key], {});\n",
              "        if (!dataTable) return;\n",
              "\n",
              "        const docLinkHtml = 'Like what you see? Visit the ' +\n",
              "          '<a target=\"_blank\" href=https://colab.research.google.com/notebooks/data_table.ipynb>data table notebook</a>'\n",
              "          + ' to learn more about interactive tables.';\n",
              "        element.innerHTML = '';\n",
              "        dataTable['output_type'] = 'display_data';\n",
              "        await google.colab.output.renderOutput(dataTable, element);\n",
              "        const docLink = document.createElement('div');\n",
              "        docLink.innerHTML = docLinkHtml;\n",
              "        element.appendChild(docLink);\n",
              "      }\n",
              "    </script>\n",
              "  </div>\n",
              "\n",
              "\n",
              "<div id=\"df-b124b67c-a9f0-4a7f-878c-a89c64b48237\">\n",
              "  <button class=\"colab-df-quickchart\" onclick=\"quickchart('df-b124b67c-a9f0-4a7f-878c-a89c64b48237')\"\n",
              "            title=\"Suggest charts\"\n",
              "            style=\"display:none;\">\n",
              "\n",
              "<svg xmlns=\"http://www.w3.org/2000/svg\" height=\"24px\"viewBox=\"0 0 24 24\"\n",
              "     width=\"24px\">\n",
              "    <g>\n",
              "        <path d=\"M19 3H5c-1.1 0-2 .9-2 2v14c0 1.1.9 2 2 2h14c1.1 0 2-.9 2-2V5c0-1.1-.9-2-2-2zM9 17H7v-7h2v7zm4 0h-2V7h2v10zm4 0h-2v-4h2v4z\"/>\n",
              "    </g>\n",
              "</svg>\n",
              "  </button>\n",
              "\n",
              "<style>\n",
              "  .colab-df-quickchart {\n",
              "      --bg-color: #E8F0FE;\n",
              "      --fill-color: #1967D2;\n",
              "      --hover-bg-color: #E2EBFA;\n",
              "      --hover-fill-color: #174EA6;\n",
              "      --disabled-fill-color: #AAA;\n",
              "      --disabled-bg-color: #DDD;\n",
              "  }\n",
              "\n",
              "  [theme=dark] .colab-df-quickchart {\n",
              "      --bg-color: #3B4455;\n",
              "      --fill-color: #D2E3FC;\n",
              "      --hover-bg-color: #434B5C;\n",
              "      --hover-fill-color: #FFFFFF;\n",
              "      --disabled-bg-color: #3B4455;\n",
              "      --disabled-fill-color: #666;\n",
              "  }\n",
              "\n",
              "  .colab-df-quickchart {\n",
              "    background-color: var(--bg-color);\n",
              "    border: none;\n",
              "    border-radius: 50%;\n",
              "    cursor: pointer;\n",
              "    display: none;\n",
              "    fill: var(--fill-color);\n",
              "    height: 32px;\n",
              "    padding: 0;\n",
              "    width: 32px;\n",
              "  }\n",
              "\n",
              "  .colab-df-quickchart:hover {\n",
              "    background-color: var(--hover-bg-color);\n",
              "    box-shadow: 0 1px 2px rgba(60, 64, 67, 0.3), 0 1px 3px 1px rgba(60, 64, 67, 0.15);\n",
              "    fill: var(--button-hover-fill-color);\n",
              "  }\n",
              "\n",
              "  .colab-df-quickchart-complete:disabled,\n",
              "  .colab-df-quickchart-complete:disabled:hover {\n",
              "    background-color: var(--disabled-bg-color);\n",
              "    fill: var(--disabled-fill-color);\n",
              "    box-shadow: none;\n",
              "  }\n",
              "\n",
              "  .colab-df-spinner {\n",
              "    border: 2px solid var(--fill-color);\n",
              "    border-color: transparent;\n",
              "    border-bottom-color: var(--fill-color);\n",
              "    animation:\n",
              "      spin 1s steps(1) infinite;\n",
              "  }\n",
              "\n",
              "  @keyframes spin {\n",
              "    0% {\n",
              "      border-color: transparent;\n",
              "      border-bottom-color: var(--fill-color);\n",
              "      border-left-color: var(--fill-color);\n",
              "    }\n",
              "    20% {\n",
              "      border-color: transparent;\n",
              "      border-left-color: var(--fill-color);\n",
              "      border-top-color: var(--fill-color);\n",
              "    }\n",
              "    30% {\n",
              "      border-color: transparent;\n",
              "      border-left-color: var(--fill-color);\n",
              "      border-top-color: var(--fill-color);\n",
              "      border-right-color: var(--fill-color);\n",
              "    }\n",
              "    40% {\n",
              "      border-color: transparent;\n",
              "      border-right-color: var(--fill-color);\n",
              "      border-top-color: var(--fill-color);\n",
              "    }\n",
              "    60% {\n",
              "      border-color: transparent;\n",
              "      border-right-color: var(--fill-color);\n",
              "    }\n",
              "    80% {\n",
              "      border-color: transparent;\n",
              "      border-right-color: var(--fill-color);\n",
              "      border-bottom-color: var(--fill-color);\n",
              "    }\n",
              "    90% {\n",
              "      border-color: transparent;\n",
              "      border-bottom-color: var(--fill-color);\n",
              "    }\n",
              "  }\n",
              "</style>\n",
              "\n",
              "  <script>\n",
              "    async function quickchart(key) {\n",
              "      const quickchartButtonEl =\n",
              "        document.querySelector('#' + key + ' button');\n",
              "      quickchartButtonEl.disabled = true;  // To prevent multiple clicks.\n",
              "      quickchartButtonEl.classList.add('colab-df-spinner');\n",
              "      try {\n",
              "        const charts = await google.colab.kernel.invokeFunction(\n",
              "            'suggestCharts', [key], {});\n",
              "      } catch (error) {\n",
              "        console.error('Error during call to suggestCharts:', error);\n",
              "      }\n",
              "      quickchartButtonEl.classList.remove('colab-df-spinner');\n",
              "      quickchartButtonEl.classList.add('colab-df-quickchart-complete');\n",
              "    }\n",
              "    (() => {\n",
              "      let quickchartButtonEl =\n",
              "        document.querySelector('#df-b124b67c-a9f0-4a7f-878c-a89c64b48237 button');\n",
              "      quickchartButtonEl.style.display =\n",
              "        google.colab.kernel.accessAllowed ? 'block' : 'none';\n",
              "    })();\n",
              "  </script>\n",
              "</div>\n",
              "\n",
              "    </div>\n",
              "  </div>\n"
            ],
            "application/vnd.google.colaboratory.intrinsic+json": {
              "type": "dataframe",
              "variable_name": "train_data"
            }
          },
          "metadata": {},
          "execution_count": 3
        }
      ],
      "source": [
        "#Import DataSet\n",
        "train_data=pd.read_csv(\"https://drive.google.com/uc?export=download&id=1kBAI8grh4RZ52ACSTldeoGceySuYyOmv\")\n",
        "train_data.head()"
      ]
    },
    {
      "cell_type": "code",
      "execution_count": null,
      "metadata": {
        "colab": {
          "base_uri": "https://localhost:8080/"
        },
        "id": "DGBBnNX-zlhd",
        "outputId": "1f01ac85-3858-4e95-dad2-724aa5a73f6f"
      },
      "outputs": [
        {
          "output_type": "stream",
          "name": "stdout",
          "text": [
            "Missing values Train Dataset:\n",
            "PoolQC          99.520548\n",
            "MiscFeature     96.301370\n",
            "Alley           93.767123\n",
            "Fence           80.753425\n",
            "FireplaceQu     47.260274\n",
            "LotFrontage     17.739726\n",
            "GarageType       5.547945\n",
            "GarageYrBlt      5.547945\n",
            "GarageFinish     5.547945\n",
            "GarageQual       5.547945\n",
            "GarageCond       5.547945\n",
            "BsmtExposure     2.602740\n",
            "BsmtFinType2     2.602740\n",
            "BsmtFinType1     2.534247\n",
            "BsmtCond         2.534247\n",
            "BsmtQual         2.534247\n",
            "MasVnrArea       0.547945\n",
            "MasVnrType       0.547945\n",
            "Electrical       0.068493\n",
            "dtype: float64\n"
          ]
        }
      ],
      "source": [
        "#Check for missing values in each columns by calculating the percentage\n",
        "missing_train=train_data.isnull().mean()*100\n",
        "\n",
        "#Filter the columns with missing values\n",
        "missing_values_train=missing_train[missing_train>0].sort_values(ascending=False)\n",
        "\n",
        "print(\"Missing values Train Dataset:\")\n",
        "print(missing_values_train)"
      ]
    },
    {
      "cell_type": "markdown",
      "metadata": {
        "id": "tKI6AoHOMRoA"
      },
      "source": [
        "The percentage is high for some of the columns because there are alot of categorical columns that have \"NA\" values, which signifies \"None\". Python reads these \"NA\" values as missing values. In order to retain the valuable information from the categorical variables, we replace the \"NA\" values with \"None\" without losing any information from the original data."
      ]
    },
    {
      "cell_type": "code",
      "execution_count": null,
      "metadata": {
        "colab": {
          "base_uri": "https://localhost:8080/"
        },
        "id": "qPK0GVWg-Apx",
        "outputId": "7618fd22-b2cb-4071-93c7-f7d328018846"
      },
      "outputs": [
        {
          "output_type": "execute_result",
          "data": {
            "text/plain": [
              "0"
            ]
          },
          "metadata": {},
          "execution_count": 5
        }
      ],
      "source": [
        "#Identify categorical columns by checking the datatypes\n",
        "category_columns_train=train_data.select_dtypes(include=[\"object\"]).columns\n",
        "\n",
        "#Find the Categorical columns with any missing values\n",
        "category_missing_train=[col for col in category_columns_train if train_data[col].isnull().any()]\n",
        "\n",
        "#Replace \"NA\" with \"None\"\n",
        "#This is done because pandas read \"NA\" as missing values when in context with this data is not applicable.\n",
        "for col in set(category_missing_train):\n",
        "  train_data[col].fillna(\"None\", inplace=True)\n",
        "\n",
        "#Check to verify that the missing values \"NA\" are replaced by \"None\"\n",
        "missing_values_replaced_train=train_data[category_missing_train].isnull().sum().sum()\n",
        "\n",
        "missing_values_replaced_train"
      ]
    },
    {
      "cell_type": "markdown",
      "metadata": {
        "id": "T966ufUrNTl9"
      },
      "source": [
        "We have repalced the \"NA\" values with \"None\" and verified the results above. We now proceed towards filling the missing values for numerical columns. It is important to note that in some columns, like \"GarageArea\", a 0 represents that the particular house does not have a Garage. But python reads this as a missing values. So it is important to take proper steps like \"Imputation\" to retain the most infromation from the dataset."
      ]
    },
    {
      "cell_type": "code",
      "execution_count": null,
      "metadata": {
        "colab": {
          "base_uri": "https://localhost:8080/"
        },
        "id": "HtWEUwELPXBF",
        "outputId": "a0a1ef2c-bd0b-47a8-8480-cd3afda4d793"
      },
      "outputs": [
        {
          "output_type": "execute_result",
          "data": {
            "text/plain": [
              "LotFrontage    259\n",
              "MasVnrArea       8\n",
              "GarageYrBlt     81\n",
              "dtype: int64"
            ]
          },
          "metadata": {},
          "execution_count": 6
        }
      ],
      "source": [
        "#Check for numerical columns in the dataset\n",
        "numerical_columns_train=train_data.select_dtypes(include=[\"int64\",\"float64\"]).columns\n",
        "\n",
        "#Find the Numerical columns with any missing values\n",
        "numerical_missing_train=train_data[numerical_columns_train].isnull().sum()[train_data[numerical_columns_train].isnull().sum()>0]\n",
        "\n",
        "numerical_missing_train"
      ]
    },
    {
      "cell_type": "markdown",
      "metadata": {
        "id": "HJFIenC6uBO8"
      },
      "source": [
        "Use of Ratio Estimation to fill the null values for \"LotFrontage\" column in both train and test datasets."
      ]
    },
    {
      "cell_type": "code",
      "execution_count": null,
      "metadata": {
        "colab": {
          "base_uri": "https://localhost:8080/"
        },
        "id": "9WUkB2fLp_VK",
        "outputId": "fec0e32e-3b74-4e7d-d5d8-de32e29b5e14"
      },
      "outputs": [
        {
          "output_type": "execute_result",
          "data": {
            "text/plain": [
              "0"
            ]
          },
          "metadata": {},
          "execution_count": 7
        }
      ],
      "source": [
        "# Using Ratio Estimation (RE) for \"LotFrontage\" based on column \"LotArea\" for \"training\" dataset\n",
        "known_lot_frontage_train=train_data.loc[train_data[\"LotFrontage\"].notnull(),\"LotFrontage\"]\n",
        "known_lot_area_train=train_data.loc[train_data[\"LotFrontage\"].notnull(),\"LotArea\"]\n",
        "mean_ratio_train=(known_lot_frontage_train/known_lot_area_train).mean()\n",
        "\n",
        "#Estimate missing LotFrontage values for the \"training\" dataset\n",
        "missing_lot_frontage_train=train_data[\"LotFrontage\"].isnull()\n",
        "train_data.loc[missing_lot_frontage_train,\"LotFrontage\"]=train_data.loc[missing_lot_frontage_train, \"LotArea\"]*mean_ratio_train\n",
        "\n",
        "#Verify Results\n",
        "verify_RE_after_train=train_data[\"LotFrontage\"].isnull().sum()\n",
        "\n",
        "verify_RE_after_train"
      ]
    },
    {
      "cell_type": "code",
      "execution_count": null,
      "metadata": {
        "colab": {
          "base_uri": "https://localhost:8080/"
        },
        "id": "vRkmervwQ5j9",
        "outputId": "1dc26697-fe2d-41af-8ede-d4757ec2c96b"
      },
      "outputs": [
        {
          "output_type": "execute_result",
          "data": {
            "text/plain": [
              "0"
            ]
          },
          "metadata": {},
          "execution_count": 8
        }
      ],
      "source": [
        "#Impute the missing values for the remaining columns\n",
        "columns_to_impute_zeros=[\"MasVnrArea\", \"GarageYrBlt\",\n",
        "    \"BsmtFinSF1\", \"BsmtFinSF2\", \"BsmtUnfSF\", \"TotalBsmtSF\",\n",
        "    \"BsmtFullBath\", \"BsmtHalfBath\", \"GarageCars\", \"GarageArea\"]\n",
        "\n",
        "for col in columns_to_impute_zeros:\n",
        "  train_data[col].fillna(0,inplace=True)\n",
        "\n",
        "verify_missing_numerical_train=train_data[numerical_columns_train].isnull().sum()[train_data[numerical_columns_train].isnull().sum()>0].sum()\n",
        "\n",
        "verify_missing_numerical_train"
      ]
    },
    {
      "cell_type": "code",
      "execution_count": null,
      "metadata": {
        "colab": {
          "base_uri": "https://localhost:8080/"
        },
        "id": "0ubJVqV1lY3Q",
        "outputId": "fdaa7ebc-ee38-48c7-e8f2-da633895958a"
      },
      "outputs": [
        {
          "output_type": "execute_result",
          "data": {
            "text/plain": [
              "0"
            ]
          },
          "metadata": {},
          "execution_count": 9
        }
      ],
      "source": [
        "#Final Check for any missing values\n",
        "total_missing_values_train=train_data.isnull().sum().sum()\n",
        "total_missing_values_train"
      ]
    },
    {
      "cell_type": "markdown",
      "metadata": {
        "id": "iPRoaD1-pL6-"
      },
      "source": [
        "#Exploratory Data Analysis (EDA)"
      ]
    },
    {
      "cell_type": "markdown",
      "metadata": {
        "id": "Dq8hvYgauHkf"
      },
      "source": [
        "#### Summary Statistics"
      ]
    },
    {
      "cell_type": "code",
      "execution_count": null,
      "metadata": {
        "colab": {
          "base_uri": "https://localhost:8080/",
          "height": 350
        },
        "id": "Q1GIKb2LpT5t",
        "outputId": "d32158a4-1dd8-4c5e-9fd7-7dd623f44de5"
      },
      "outputs": [
        {
          "output_type": "execute_result",
          "data": {
            "text/plain": [
              "                Id   MSSubClass  LotFrontage        LotArea  OverallQual  \\\n",
              "count  1460.000000  1460.000000  1460.000000    1460.000000  1460.000000   \n",
              "mean    730.500000    56.897260    76.038480   10516.828082     6.099315   \n",
              "std     421.610009    42.300571    59.619763    9981.264932     1.382997   \n",
              "min       1.000000    20.000000    15.597969    1300.000000     1.000000   \n",
              "25%     365.750000    20.000000    60.000000    7553.500000     5.000000   \n",
              "50%     730.500000    50.000000    70.000000    9478.500000     6.000000   \n",
              "75%    1095.250000    70.000000    85.000000   11601.500000     7.000000   \n",
              "max    1460.000000   190.000000  1301.094983  215245.000000    10.000000   \n",
              "\n",
              "       OverallCond    YearBuilt  YearRemodAdd   MasVnrArea   BsmtFinSF1  ...  \\\n",
              "count  1460.000000  1460.000000   1460.000000  1460.000000  1460.000000  ...   \n",
              "mean      5.575342  1971.267808   1984.865753   103.117123   443.639726  ...   \n",
              "std       1.112799    30.202904     20.645407   180.731373   456.098091  ...   \n",
              "min       1.000000  1872.000000   1950.000000     0.000000     0.000000  ...   \n",
              "25%       5.000000  1954.000000   1967.000000     0.000000     0.000000  ...   \n",
              "50%       5.000000  1973.000000   1994.000000     0.000000   383.500000  ...   \n",
              "75%       6.000000  2000.000000   2004.000000   164.250000   712.250000  ...   \n",
              "max       9.000000  2010.000000   2010.000000  1600.000000  5644.000000  ...   \n",
              "\n",
              "        WoodDeckSF  OpenPorchSF  EnclosedPorch    3SsnPorch  ScreenPorch  \\\n",
              "count  1460.000000  1460.000000    1460.000000  1460.000000  1460.000000   \n",
              "mean     94.244521    46.660274      21.954110     3.409589    15.060959   \n",
              "std     125.338794    66.256028      61.119149    29.317331    55.757415   \n",
              "min       0.000000     0.000000       0.000000     0.000000     0.000000   \n",
              "25%       0.000000     0.000000       0.000000     0.000000     0.000000   \n",
              "50%       0.000000    25.000000       0.000000     0.000000     0.000000   \n",
              "75%     168.000000    68.000000       0.000000     0.000000     0.000000   \n",
              "max     857.000000   547.000000     552.000000   508.000000   480.000000   \n",
              "\n",
              "          PoolArea       MiscVal       MoSold       YrSold      SalePrice  \n",
              "count  1460.000000   1460.000000  1460.000000  1460.000000    1460.000000  \n",
              "mean      2.758904     43.489041     6.321918  2007.815753  180921.195890  \n",
              "std      40.177307    496.123024     2.703626     1.328095   79442.502883  \n",
              "min       0.000000      0.000000     1.000000  2006.000000   34900.000000  \n",
              "25%       0.000000      0.000000     5.000000  2007.000000  129975.000000  \n",
              "50%       0.000000      0.000000     6.000000  2008.000000  163000.000000  \n",
              "75%       0.000000      0.000000     8.000000  2009.000000  214000.000000  \n",
              "max     738.000000  15500.000000    12.000000  2010.000000  755000.000000  \n",
              "\n",
              "[8 rows x 38 columns]"
            ],
            "text/html": [
              "\n",
              "  <div id=\"df-8cbaf2f6-da02-4933-aece-915836075c6d\" class=\"colab-df-container\">\n",
              "    <div>\n",
              "<style scoped>\n",
              "    .dataframe tbody tr th:only-of-type {\n",
              "        vertical-align: middle;\n",
              "    }\n",
              "\n",
              "    .dataframe tbody tr th {\n",
              "        vertical-align: top;\n",
              "    }\n",
              "\n",
              "    .dataframe thead th {\n",
              "        text-align: right;\n",
              "    }\n",
              "</style>\n",
              "<table border=\"1\" class=\"dataframe\">\n",
              "  <thead>\n",
              "    <tr style=\"text-align: right;\">\n",
              "      <th></th>\n",
              "      <th>Id</th>\n",
              "      <th>MSSubClass</th>\n",
              "      <th>LotFrontage</th>\n",
              "      <th>LotArea</th>\n",
              "      <th>OverallQual</th>\n",
              "      <th>OverallCond</th>\n",
              "      <th>YearBuilt</th>\n",
              "      <th>YearRemodAdd</th>\n",
              "      <th>MasVnrArea</th>\n",
              "      <th>BsmtFinSF1</th>\n",
              "      <th>...</th>\n",
              "      <th>WoodDeckSF</th>\n",
              "      <th>OpenPorchSF</th>\n",
              "      <th>EnclosedPorch</th>\n",
              "      <th>3SsnPorch</th>\n",
              "      <th>ScreenPorch</th>\n",
              "      <th>PoolArea</th>\n",
              "      <th>MiscVal</th>\n",
              "      <th>MoSold</th>\n",
              "      <th>YrSold</th>\n",
              "      <th>SalePrice</th>\n",
              "    </tr>\n",
              "  </thead>\n",
              "  <tbody>\n",
              "    <tr>\n",
              "      <th>count</th>\n",
              "      <td>1460.000000</td>\n",
              "      <td>1460.000000</td>\n",
              "      <td>1460.000000</td>\n",
              "      <td>1460.000000</td>\n",
              "      <td>1460.000000</td>\n",
              "      <td>1460.000000</td>\n",
              "      <td>1460.000000</td>\n",
              "      <td>1460.000000</td>\n",
              "      <td>1460.000000</td>\n",
              "      <td>1460.000000</td>\n",
              "      <td>...</td>\n",
              "      <td>1460.000000</td>\n",
              "      <td>1460.000000</td>\n",
              "      <td>1460.000000</td>\n",
              "      <td>1460.000000</td>\n",
              "      <td>1460.000000</td>\n",
              "      <td>1460.000000</td>\n",
              "      <td>1460.000000</td>\n",
              "      <td>1460.000000</td>\n",
              "      <td>1460.000000</td>\n",
              "      <td>1460.000000</td>\n",
              "    </tr>\n",
              "    <tr>\n",
              "      <th>mean</th>\n",
              "      <td>730.500000</td>\n",
              "      <td>56.897260</td>\n",
              "      <td>76.038480</td>\n",
              "      <td>10516.828082</td>\n",
              "      <td>6.099315</td>\n",
              "      <td>5.575342</td>\n",
              "      <td>1971.267808</td>\n",
              "      <td>1984.865753</td>\n",
              "      <td>103.117123</td>\n",
              "      <td>443.639726</td>\n",
              "      <td>...</td>\n",
              "      <td>94.244521</td>\n",
              "      <td>46.660274</td>\n",
              "      <td>21.954110</td>\n",
              "      <td>3.409589</td>\n",
              "      <td>15.060959</td>\n",
              "      <td>2.758904</td>\n",
              "      <td>43.489041</td>\n",
              "      <td>6.321918</td>\n",
              "      <td>2007.815753</td>\n",
              "      <td>180921.195890</td>\n",
              "    </tr>\n",
              "    <tr>\n",
              "      <th>std</th>\n",
              "      <td>421.610009</td>\n",
              "      <td>42.300571</td>\n",
              "      <td>59.619763</td>\n",
              "      <td>9981.264932</td>\n",
              "      <td>1.382997</td>\n",
              "      <td>1.112799</td>\n",
              "      <td>30.202904</td>\n",
              "      <td>20.645407</td>\n",
              "      <td>180.731373</td>\n",
              "      <td>456.098091</td>\n",
              "      <td>...</td>\n",
              "      <td>125.338794</td>\n",
              "      <td>66.256028</td>\n",
              "      <td>61.119149</td>\n",
              "      <td>29.317331</td>\n",
              "      <td>55.757415</td>\n",
              "      <td>40.177307</td>\n",
              "      <td>496.123024</td>\n",
              "      <td>2.703626</td>\n",
              "      <td>1.328095</td>\n",
              "      <td>79442.502883</td>\n",
              "    </tr>\n",
              "    <tr>\n",
              "      <th>min</th>\n",
              "      <td>1.000000</td>\n",
              "      <td>20.000000</td>\n",
              "      <td>15.597969</td>\n",
              "      <td>1300.000000</td>\n",
              "      <td>1.000000</td>\n",
              "      <td>1.000000</td>\n",
              "      <td>1872.000000</td>\n",
              "      <td>1950.000000</td>\n",
              "      <td>0.000000</td>\n",
              "      <td>0.000000</td>\n",
              "      <td>...</td>\n",
              "      <td>0.000000</td>\n",
              "      <td>0.000000</td>\n",
              "      <td>0.000000</td>\n",
              "      <td>0.000000</td>\n",
              "      <td>0.000000</td>\n",
              "      <td>0.000000</td>\n",
              "      <td>0.000000</td>\n",
              "      <td>1.000000</td>\n",
              "      <td>2006.000000</td>\n",
              "      <td>34900.000000</td>\n",
              "    </tr>\n",
              "    <tr>\n",
              "      <th>25%</th>\n",
              "      <td>365.750000</td>\n",
              "      <td>20.000000</td>\n",
              "      <td>60.000000</td>\n",
              "      <td>7553.500000</td>\n",
              "      <td>5.000000</td>\n",
              "      <td>5.000000</td>\n",
              "      <td>1954.000000</td>\n",
              "      <td>1967.000000</td>\n",
              "      <td>0.000000</td>\n",
              "      <td>0.000000</td>\n",
              "      <td>...</td>\n",
              "      <td>0.000000</td>\n",
              "      <td>0.000000</td>\n",
              "      <td>0.000000</td>\n",
              "      <td>0.000000</td>\n",
              "      <td>0.000000</td>\n",
              "      <td>0.000000</td>\n",
              "      <td>0.000000</td>\n",
              "      <td>5.000000</td>\n",
              "      <td>2007.000000</td>\n",
              "      <td>129975.000000</td>\n",
              "    </tr>\n",
              "    <tr>\n",
              "      <th>50%</th>\n",
              "      <td>730.500000</td>\n",
              "      <td>50.000000</td>\n",
              "      <td>70.000000</td>\n",
              "      <td>9478.500000</td>\n",
              "      <td>6.000000</td>\n",
              "      <td>5.000000</td>\n",
              "      <td>1973.000000</td>\n",
              "      <td>1994.000000</td>\n",
              "      <td>0.000000</td>\n",
              "      <td>383.500000</td>\n",
              "      <td>...</td>\n",
              "      <td>0.000000</td>\n",
              "      <td>25.000000</td>\n",
              "      <td>0.000000</td>\n",
              "      <td>0.000000</td>\n",
              "      <td>0.000000</td>\n",
              "      <td>0.000000</td>\n",
              "      <td>0.000000</td>\n",
              "      <td>6.000000</td>\n",
              "      <td>2008.000000</td>\n",
              "      <td>163000.000000</td>\n",
              "    </tr>\n",
              "    <tr>\n",
              "      <th>75%</th>\n",
              "      <td>1095.250000</td>\n",
              "      <td>70.000000</td>\n",
              "      <td>85.000000</td>\n",
              "      <td>11601.500000</td>\n",
              "      <td>7.000000</td>\n",
              "      <td>6.000000</td>\n",
              "      <td>2000.000000</td>\n",
              "      <td>2004.000000</td>\n",
              "      <td>164.250000</td>\n",
              "      <td>712.250000</td>\n",
              "      <td>...</td>\n",
              "      <td>168.000000</td>\n",
              "      <td>68.000000</td>\n",
              "      <td>0.000000</td>\n",
              "      <td>0.000000</td>\n",
              "      <td>0.000000</td>\n",
              "      <td>0.000000</td>\n",
              "      <td>0.000000</td>\n",
              "      <td>8.000000</td>\n",
              "      <td>2009.000000</td>\n",
              "      <td>214000.000000</td>\n",
              "    </tr>\n",
              "    <tr>\n",
              "      <th>max</th>\n",
              "      <td>1460.000000</td>\n",
              "      <td>190.000000</td>\n",
              "      <td>1301.094983</td>\n",
              "      <td>215245.000000</td>\n",
              "      <td>10.000000</td>\n",
              "      <td>9.000000</td>\n",
              "      <td>2010.000000</td>\n",
              "      <td>2010.000000</td>\n",
              "      <td>1600.000000</td>\n",
              "      <td>5644.000000</td>\n",
              "      <td>...</td>\n",
              "      <td>857.000000</td>\n",
              "      <td>547.000000</td>\n",
              "      <td>552.000000</td>\n",
              "      <td>508.000000</td>\n",
              "      <td>480.000000</td>\n",
              "      <td>738.000000</td>\n",
              "      <td>15500.000000</td>\n",
              "      <td>12.000000</td>\n",
              "      <td>2010.000000</td>\n",
              "      <td>755000.000000</td>\n",
              "    </tr>\n",
              "  </tbody>\n",
              "</table>\n",
              "<p>8 rows × 38 columns</p>\n",
              "</div>\n",
              "    <div class=\"colab-df-buttons\">\n",
              "\n",
              "  <div class=\"colab-df-container\">\n",
              "    <button class=\"colab-df-convert\" onclick=\"convertToInteractive('df-8cbaf2f6-da02-4933-aece-915836075c6d')\"\n",
              "            title=\"Convert this dataframe to an interactive table.\"\n",
              "            style=\"display:none;\">\n",
              "\n",
              "  <svg xmlns=\"http://www.w3.org/2000/svg\" height=\"24px\" viewBox=\"0 -960 960 960\">\n",
              "    <path d=\"M120-120v-720h720v720H120Zm60-500h600v-160H180v160Zm220 220h160v-160H400v160Zm0 220h160v-160H400v160ZM180-400h160v-160H180v160Zm440 0h160v-160H620v160ZM180-180h160v-160H180v160Zm440 0h160v-160H620v160Z\"/>\n",
              "  </svg>\n",
              "    </button>\n",
              "\n",
              "  <style>\n",
              "    .colab-df-container {\n",
              "      display:flex;\n",
              "      gap: 12px;\n",
              "    }\n",
              "\n",
              "    .colab-df-convert {\n",
              "      background-color: #E8F0FE;\n",
              "      border: none;\n",
              "      border-radius: 50%;\n",
              "      cursor: pointer;\n",
              "      display: none;\n",
              "      fill: #1967D2;\n",
              "      height: 32px;\n",
              "      padding: 0 0 0 0;\n",
              "      width: 32px;\n",
              "    }\n",
              "\n",
              "    .colab-df-convert:hover {\n",
              "      background-color: #E2EBFA;\n",
              "      box-shadow: 0px 1px 2px rgba(60, 64, 67, 0.3), 0px 1px 3px 1px rgba(60, 64, 67, 0.15);\n",
              "      fill: #174EA6;\n",
              "    }\n",
              "\n",
              "    .colab-df-buttons div {\n",
              "      margin-bottom: 4px;\n",
              "    }\n",
              "\n",
              "    [theme=dark] .colab-df-convert {\n",
              "      background-color: #3B4455;\n",
              "      fill: #D2E3FC;\n",
              "    }\n",
              "\n",
              "    [theme=dark] .colab-df-convert:hover {\n",
              "      background-color: #434B5C;\n",
              "      box-shadow: 0px 1px 3px 1px rgba(0, 0, 0, 0.15);\n",
              "      filter: drop-shadow(0px 1px 2px rgba(0, 0, 0, 0.3));\n",
              "      fill: #FFFFFF;\n",
              "    }\n",
              "  </style>\n",
              "\n",
              "    <script>\n",
              "      const buttonEl =\n",
              "        document.querySelector('#df-8cbaf2f6-da02-4933-aece-915836075c6d button.colab-df-convert');\n",
              "      buttonEl.style.display =\n",
              "        google.colab.kernel.accessAllowed ? 'block' : 'none';\n",
              "\n",
              "      async function convertToInteractive(key) {\n",
              "        const element = document.querySelector('#df-8cbaf2f6-da02-4933-aece-915836075c6d');\n",
              "        const dataTable =\n",
              "          await google.colab.kernel.invokeFunction('convertToInteractive',\n",
              "                                                    [key], {});\n",
              "        if (!dataTable) return;\n",
              "\n",
              "        const docLinkHtml = 'Like what you see? Visit the ' +\n",
              "          '<a target=\"_blank\" href=https://colab.research.google.com/notebooks/data_table.ipynb>data table notebook</a>'\n",
              "          + ' to learn more about interactive tables.';\n",
              "        element.innerHTML = '';\n",
              "        dataTable['output_type'] = 'display_data';\n",
              "        await google.colab.output.renderOutput(dataTable, element);\n",
              "        const docLink = document.createElement('div');\n",
              "        docLink.innerHTML = docLinkHtml;\n",
              "        element.appendChild(docLink);\n",
              "      }\n",
              "    </script>\n",
              "  </div>\n",
              "\n",
              "\n",
              "<div id=\"df-81863fa5-3e13-4885-898f-d4e4e7d705c4\">\n",
              "  <button class=\"colab-df-quickchart\" onclick=\"quickchart('df-81863fa5-3e13-4885-898f-d4e4e7d705c4')\"\n",
              "            title=\"Suggest charts\"\n",
              "            style=\"display:none;\">\n",
              "\n",
              "<svg xmlns=\"http://www.w3.org/2000/svg\" height=\"24px\"viewBox=\"0 0 24 24\"\n",
              "     width=\"24px\">\n",
              "    <g>\n",
              "        <path d=\"M19 3H5c-1.1 0-2 .9-2 2v14c0 1.1.9 2 2 2h14c1.1 0 2-.9 2-2V5c0-1.1-.9-2-2-2zM9 17H7v-7h2v7zm4 0h-2V7h2v10zm4 0h-2v-4h2v4z\"/>\n",
              "    </g>\n",
              "</svg>\n",
              "  </button>\n",
              "\n",
              "<style>\n",
              "  .colab-df-quickchart {\n",
              "      --bg-color: #E8F0FE;\n",
              "      --fill-color: #1967D2;\n",
              "      --hover-bg-color: #E2EBFA;\n",
              "      --hover-fill-color: #174EA6;\n",
              "      --disabled-fill-color: #AAA;\n",
              "      --disabled-bg-color: #DDD;\n",
              "  }\n",
              "\n",
              "  [theme=dark] .colab-df-quickchart {\n",
              "      --bg-color: #3B4455;\n",
              "      --fill-color: #D2E3FC;\n",
              "      --hover-bg-color: #434B5C;\n",
              "      --hover-fill-color: #FFFFFF;\n",
              "      --disabled-bg-color: #3B4455;\n",
              "      --disabled-fill-color: #666;\n",
              "  }\n",
              "\n",
              "  .colab-df-quickchart {\n",
              "    background-color: var(--bg-color);\n",
              "    border: none;\n",
              "    border-radius: 50%;\n",
              "    cursor: pointer;\n",
              "    display: none;\n",
              "    fill: var(--fill-color);\n",
              "    height: 32px;\n",
              "    padding: 0;\n",
              "    width: 32px;\n",
              "  }\n",
              "\n",
              "  .colab-df-quickchart:hover {\n",
              "    background-color: var(--hover-bg-color);\n",
              "    box-shadow: 0 1px 2px rgba(60, 64, 67, 0.3), 0 1px 3px 1px rgba(60, 64, 67, 0.15);\n",
              "    fill: var(--button-hover-fill-color);\n",
              "  }\n",
              "\n",
              "  .colab-df-quickchart-complete:disabled,\n",
              "  .colab-df-quickchart-complete:disabled:hover {\n",
              "    background-color: var(--disabled-bg-color);\n",
              "    fill: var(--disabled-fill-color);\n",
              "    box-shadow: none;\n",
              "  }\n",
              "\n",
              "  .colab-df-spinner {\n",
              "    border: 2px solid var(--fill-color);\n",
              "    border-color: transparent;\n",
              "    border-bottom-color: var(--fill-color);\n",
              "    animation:\n",
              "      spin 1s steps(1) infinite;\n",
              "  }\n",
              "\n",
              "  @keyframes spin {\n",
              "    0% {\n",
              "      border-color: transparent;\n",
              "      border-bottom-color: var(--fill-color);\n",
              "      border-left-color: var(--fill-color);\n",
              "    }\n",
              "    20% {\n",
              "      border-color: transparent;\n",
              "      border-left-color: var(--fill-color);\n",
              "      border-top-color: var(--fill-color);\n",
              "    }\n",
              "    30% {\n",
              "      border-color: transparent;\n",
              "      border-left-color: var(--fill-color);\n",
              "      border-top-color: var(--fill-color);\n",
              "      border-right-color: var(--fill-color);\n",
              "    }\n",
              "    40% {\n",
              "      border-color: transparent;\n",
              "      border-right-color: var(--fill-color);\n",
              "      border-top-color: var(--fill-color);\n",
              "    }\n",
              "    60% {\n",
              "      border-color: transparent;\n",
              "      border-right-color: var(--fill-color);\n",
              "    }\n",
              "    80% {\n",
              "      border-color: transparent;\n",
              "      border-right-color: var(--fill-color);\n",
              "      border-bottom-color: var(--fill-color);\n",
              "    }\n",
              "    90% {\n",
              "      border-color: transparent;\n",
              "      border-bottom-color: var(--fill-color);\n",
              "    }\n",
              "  }\n",
              "</style>\n",
              "\n",
              "  <script>\n",
              "    async function quickchart(key) {\n",
              "      const quickchartButtonEl =\n",
              "        document.querySelector('#' + key + ' button');\n",
              "      quickchartButtonEl.disabled = true;  // To prevent multiple clicks.\n",
              "      quickchartButtonEl.classList.add('colab-df-spinner');\n",
              "      try {\n",
              "        const charts = await google.colab.kernel.invokeFunction(\n",
              "            'suggestCharts', [key], {});\n",
              "      } catch (error) {\n",
              "        console.error('Error during call to suggestCharts:', error);\n",
              "      }\n",
              "      quickchartButtonEl.classList.remove('colab-df-spinner');\n",
              "      quickchartButtonEl.classList.add('colab-df-quickchart-complete');\n",
              "    }\n",
              "    (() => {\n",
              "      let quickchartButtonEl =\n",
              "        document.querySelector('#df-81863fa5-3e13-4885-898f-d4e4e7d705c4 button');\n",
              "      quickchartButtonEl.style.display =\n",
              "        google.colab.kernel.accessAllowed ? 'block' : 'none';\n",
              "    })();\n",
              "  </script>\n",
              "</div>\n",
              "\n",
              "  <div id=\"id_3f3b7a9a-5ec4-4a05-9d5d-a7d7d2fb4f0f\">\n",
              "    <style>\n",
              "      .colab-df-generate {\n",
              "        background-color: #E8F0FE;\n",
              "        border: none;\n",
              "        border-radius: 50%;\n",
              "        cursor: pointer;\n",
              "        display: none;\n",
              "        fill: #1967D2;\n",
              "        height: 32px;\n",
              "        padding: 0 0 0 0;\n",
              "        width: 32px;\n",
              "      }\n",
              "\n",
              "      .colab-df-generate:hover {\n",
              "        background-color: #E2EBFA;\n",
              "        box-shadow: 0px 1px 2px rgba(60, 64, 67, 0.3), 0px 1px 3px 1px rgba(60, 64, 67, 0.15);\n",
              "        fill: #174EA6;\n",
              "      }\n",
              "\n",
              "      [theme=dark] .colab-df-generate {\n",
              "        background-color: #3B4455;\n",
              "        fill: #D2E3FC;\n",
              "      }\n",
              "\n",
              "      [theme=dark] .colab-df-generate:hover {\n",
              "        background-color: #434B5C;\n",
              "        box-shadow: 0px 1px 3px 1px rgba(0, 0, 0, 0.15);\n",
              "        filter: drop-shadow(0px 1px 2px rgba(0, 0, 0, 0.3));\n",
              "        fill: #FFFFFF;\n",
              "      }\n",
              "    </style>\n",
              "    <button class=\"colab-df-generate\" onclick=\"generateWithVariable('summary_info_train')\"\n",
              "            title=\"Generate code using this dataframe.\"\n",
              "            style=\"display:none;\">\n",
              "\n",
              "  <svg xmlns=\"http://www.w3.org/2000/svg\" height=\"24px\"viewBox=\"0 0 24 24\"\n",
              "       width=\"24px\">\n",
              "    <path d=\"M7,19H8.4L18.45,9,17,7.55,7,17.6ZM5,21V16.75L18.45,3.32a2,2,0,0,1,2.83,0l1.4,1.43a1.91,1.91,0,0,1,.58,1.4,1.91,1.91,0,0,1-.58,1.4L9.25,21ZM18.45,9,17,7.55Zm-12,3A5.31,5.31,0,0,0,4.9,8.1,5.31,5.31,0,0,0,1,6.5,5.31,5.31,0,0,0,4.9,4.9,5.31,5.31,0,0,0,6.5,1,5.31,5.31,0,0,0,8.1,4.9,5.31,5.31,0,0,0,12,6.5,5.46,5.46,0,0,0,6.5,12Z\"/>\n",
              "  </svg>\n",
              "    </button>\n",
              "    <script>\n",
              "      (() => {\n",
              "      const buttonEl =\n",
              "        document.querySelector('#id_3f3b7a9a-5ec4-4a05-9d5d-a7d7d2fb4f0f button.colab-df-generate');\n",
              "      buttonEl.style.display =\n",
              "        google.colab.kernel.accessAllowed ? 'block' : 'none';\n",
              "\n",
              "      buttonEl.onclick = () => {\n",
              "        google.colab.notebook.generateWithVariable('summary_info_train');\n",
              "      }\n",
              "      })();\n",
              "    </script>\n",
              "  </div>\n",
              "\n",
              "    </div>\n",
              "  </div>\n"
            ],
            "application/vnd.google.colaboratory.intrinsic+json": {
              "type": "dataframe",
              "variable_name": "summary_info_train"
            }
          },
          "metadata": {},
          "execution_count": 10
        }
      ],
      "source": [
        "# Summary Information\n",
        "summary_info_train = train_data.describe()\n",
        "\n",
        "# Display summary information of the training dataset\n",
        "summary_info_train"
      ]
    },
    {
      "cell_type": "markdown",
      "metadata": {
        "id": "YwVue6uerEpR"
      },
      "source": [
        "* Count: Each numerical column had 1460 entries indicating no missing values after the pre-prrocessing.\n",
        "\n",
        "* Mean,Std, Min, and Max: These metrices give us an idea of the tendencay oand dispersion of numerical features. For instance, \"SalePrice\", which is our target variable, has a mean approximately 180921, with a standard devaition of about 79442, indicating a variablity in house prices.\n",
        "\n",
        "* Quartiles (25%, 50%, 75%) : These values help us to understand the distribution and the presence of any outliers. For example, the \"LotFroantage\" variable has a median value of 70 feet, but ranges up to 1301 feet, suggesting some properties with unsually large frontage.\n",
        "\n",
        "The columns like \"PoolArea\" and \"MiscVal\" contains significant number of 0 values, which potentially indicate that many houses do not have pools or miscellaneous features adding value to the property.\n",
        "\n"
      ]
    },
    {
      "cell_type": "markdown",
      "metadata": {
        "id": "oTuH1VXstour"
      },
      "source": [
        "#### Individual Variable Exploration"
      ]
    },
    {
      "cell_type": "code",
      "execution_count": null,
      "metadata": {
        "colab": {
          "base_uri": "https://localhost:8080/",
          "height": 807
        },
        "id": "AuJ8FoBxtlA5",
        "outputId": "825c4932-6287-42e2-9b03-04ab5415725d"
      },
      "outputs": [
        {
          "output_type": "display_data",
          "data": {
            "text/plain": [
              "<Figure size 1200x800 with 4 Axes>"
            ],
            "image/png": "[encoded data removed]"
          },
          "metadata": {}
        }
      ],
      "source": [
        "# Setting up the matplotlib figure\n",
        "fig, axs = plt.subplots(nrows=2, ncols=2, figsize=(12, 8))\n",
        "\n",
        "# SalePrice Distribution\n",
        "sns.histplot(train_data[\"SalePrice\"], kde=True, ax=axs[0, 0])\n",
        "axs[0, 0].set_title(\"SalePrice Distribution\")\n",
        "\n",
        "# Overall Quality vs. SalePrice\n",
        "sns.boxplot(x=\"OverallQual\", y=\"SalePrice\", data=train_data, ax=axs[0, 1])\n",
        "axs[0, 1].set_title(\"SalePrice vs. Overall Quality\")\n",
        "\n",
        "# Above Grade (Ground) Living Area Square Feet vs. SalePrice\n",
        "sns.scatterplot(x=\"GrLivArea\", y=\"SalePrice\", data=train_data, ax=axs[1, 0])\n",
        "axs[1, 0].set_title(\"SalePrice vs. GrLivArea\")\n",
        "\n",
        "# Year Built vs. SalePrice\n",
        "sns.scatterplot(x=\"YearBuilt\", y=\"SalePrice\", data=train_data, ax=axs[1, 1])\n",
        "axs[1, 1].set_title(\"SalePrice vs. Year Built\")\n",
        "\n",
        "plt.tight_layout()\n",
        "plt.show()\n"
      ]
    },
    {
      "cell_type": "markdown",
      "metadata": {
        "id": "IKh7ImBh3iWe"
      },
      "source": [
        "* SalePrice Distribution: The distribution of \"SalePrice\" is right skewed, suggesting that most houses are in the lower price range, with few houses going in the higher range.\n",
        "\n",
        "* SalePrice vs Overall Quality: A positive relationship exists between \"OveallQual\" and \"SalePrice\" suggesting higher quality houses tends to sell for higher price. There is a strong linear relationship making \"OverallQual\" a good predictor for \"SalePrice\".\n",
        "\n",
        "* SalePrice vs GrLivArea: There is a positive correlation between \"GrLivArea\" and \"SalePrice\" suggesting that as the living area increases the sale price tends to increase as well. However, few outliers are present observed from the scatter plot as some house with large living areas have relatively low prices.\n",
        "\n",
        "* SalePrice vs YearBuilt: There is a slight trend where newer houses tend to sell at higher price, but the relationship is not as stong as with \"OverallQual\" or \"GrLivArea\". Some older houses also has higher sale price, possibly due to historical value or other desirable features."
      ]
    },
    {
      "cell_type": "markdown",
      "metadata": {
        "id": "V1pDuDERlucF"
      },
      "source": [
        "#Analysis"
      ]
    },
    {
      "cell_type": "markdown",
      "metadata": {
        "id": "YSkWmtkbh4-Z"
      },
      "source": [
        "##Stratified Sampling"
      ]
    },
    {
      "cell_type": "markdown",
      "metadata": {
        "id": "049rRwUnxANa"
      },
      "source": [
        "To begin the anlysis section, we wanted to compare the use of a stratified sampling procedure to a simple random sample (SRS), to estimate the mean sales price. We stratified the housing data based on the variable 'BldgType', which represents the type of house, such as single family, townhouse, etc. This stratification variable was chosen in an attempt to decrease the relative ratio of variance within- to between-strata. As there is logically a difference in value between the various housing types, we hypothesized that this would translate in to a greater variance between strata and imporve the estimates from the stratified samples.\n",
        "We created random samples composed of 20% of the original population. For the stratified sample, we sampled each strata in proportion to its occurence within the population."
      ]
    },
    {
      "cell_type": "code",
      "execution_count": null,
      "metadata": {
        "id": "sTjIjtBCh-IX"
      },
      "outputs": [],
      "source": [
        "strat_pop = train_data[['SalePrice', 'BldgType']].groupby(\"BldgType\").agg([\"count\", \"mean\", \"var\"]).SalePrice\n",
        "\n",
        "simple_sample = train_data['SalePrice'].sample(frac=0.2, random_state=100)\n",
        "strat_sample = train_data[['SalePrice', 'BldgType']].groupby(\"BldgType\").sample(frac=0.2, random_state=100)\n",
        "strat_sample = strat_sample.groupby(\"BldgType\").agg([\"count\", \"mean\", \"var\"]).SalePrice\n"
      ]
    },
    {
      "cell_type": "code",
      "execution_count": null,
      "metadata": {
        "colab": {
          "base_uri": "https://localhost:8080/",
          "height": 581
        },
        "id": "JRJivRaCnBDX",
        "outputId": "8b521464-1800-471a-ae12-187d61902626"
      },
      "outputs": [
        {
          "output_type": "execute_result",
          "data": {
            "text/plain": [
              "Text(0.5, 1.0, 'Distribution of total variance by home type')"
            ]
          },
          "metadata": {},
          "execution_count": 14
        },
        {
          "output_type": "display_data",
          "data": {
            "text/plain": [
              "<Figure size 1200x600 with 2 Axes>"
            ],
            "image/png": "[encoded data removed]"
          },
          "metadata": {}
        }
      ],
      "source": [
        "strat = [train_data.SalePrice[train_data.BldgType == type] for type, _ in strat_pop.iterrows()]\n",
        "\n",
        "fig, (ax1, ax2) = plt.subplots(nrows=1, ncols=2, figsize=(12, 6))\n",
        "ax1.boxplot(strat, showfliers=False)\n",
        "ax1.set_ylabel(\"Sales Price\")\n",
        "ax1.set_xlabel(\"Home Type\")\n",
        "ax1.set_xticklabels(strat_pop.index)\n",
        "ax1.set_title(\"Distribution of sales price sizes by home type\")\n",
        "\n",
        "ax2.pie(strat_pop[\"var\"], labels = strat_pop.index, autopct='%1.1f%%')\n",
        "ax2.set_title(\"Distribution of total variance by home type\")"
      ]
    },
    {
      "cell_type": "code",
      "source": [
        "import numpy as np\n",
        "#Stratified Sample\n",
        "#Estimate mean\n",
        "N = strat_pop['count'].sum()\n",
        "Nh = strat_pop['count']\n",
        "nh = strat_sample['count']\n",
        "strat_mean = strat_sample['mean']\n",
        "strat_var = strat_sample['var']\n",
        "noreplace_adj = 1-(nh/Nh)\n",
        "strat_popmean_est = (Nh/N * strat_mean).sum()\n",
        "\n",
        "#Calculate standard error\n",
        "strat_varmean = ((strat_var/nh) * (Nh/N)**2 * noreplace_adj).sum()\n",
        "strat_se = np.sqrt(strat_varmean)\n",
        "\n",
        "#95% Confidence Intervals\n",
        "lower_strat_ci = strat_popmean_est - 1.96 * strat_se\n",
        "upper_strat_ci = strat_popmean_est + 1.96 * strat_se\n",
        "\n",
        "true_mean = train_data['SalePrice'].mean()\n",
        "\n",
        "print(f\"The 95% confidence intervals for the stratified sample estimate of the population mean range from {lower_strat_ci:.2f} to {upper_strat_ci:.2f}.\")\n",
        "print(f\"The true mean sale price value was {true_mean:.2f}.\")"
      ],
      "metadata": {
        "colab": {
          "base_uri": "https://localhost:8080/"
        },
        "id": "CohIB5dF_FDp",
        "outputId": "37c43ac5-017e-401f-e014-6621c20fe14a"
      },
      "execution_count": null,
      "outputs": [
        {
          "output_type": "stream",
          "name": "stdout",
          "text": [
            "The 95% confidence intervals for the stratified sample estimate of the population mean range from 178267.32 to 195193.81.\n",
            "The true mean sale price value was 180921.20.\n"
          ]
        }
      ]
    },
    {
      "cell_type": "code",
      "source": [
        "#Simple random sample\n",
        "#Estimate mean and calculate standard error\n",
        "simple_popmean_est = simple_sample.mean()\n",
        "simple_se = simple_sample.std()/np.sqrt(len(simple_sample))\n",
        "\n",
        "#95% Confidence Intervals\n",
        "lower_simple_ci = simple_popmean_est - 1.96 * simple_se\n",
        "upper_simple_ci =simple_popmean_est + 1.96 * simple_se\n",
        "\n",
        "print(f\"The 95% confidence intervals for the SRS estimate of the population mean range from {lower_simple_ci:.2f} to {upper_simple_ci:.2f}.\")\n",
        "print(f\"The true mean sale price value was {true_mean:.2f}.\")"
      ],
      "metadata": {
        "id": "PFNzTx6f_E9g",
        "colab": {
          "base_uri": "https://localhost:8080/"
        },
        "outputId": "0ed3e1eb-18ec-43d7-be0f-95e5c75c7a79"
      },
      "execution_count": null,
      "outputs": [
        {
          "output_type": "stream",
          "name": "stdout",
          "text": [
            "The 95% confidence intervals for the SRS estimate of the population mean range from 172904.46 to 191329.75.\n",
            "The true mean sale price value was 180921.20.\n"
          ]
        }
      ]
    },
    {
      "cell_type": "code",
      "source": [
        "ci_ratio = (upper_strat_ci - lower_strat_ci)/(upper_simple_ci - lower_simple_ci)\n",
        "\n",
        "print(f\"The 95% confidence intervals for stratified sample CIs are {ci_ratio * 100:.2f}% as wide as those of the SRS.\")"
      ],
      "metadata": {
        "id": "p4PDOLMW_EzS",
        "colab": {
          "base_uri": "https://localhost:8080/"
        },
        "outputId": "4c6b7a70-a186-41a5-daa4-fd4d98f1f5d8"
      },
      "execution_count": null,
      "outputs": [
        {
          "output_type": "stream",
          "name": "stdout",
          "text": [
            "The 95% confidence intervals for stratified sample CIs are 91.87% as wide as those of the SRS.\n"
          ]
        }
      ]
    },
    {
      "cell_type": "markdown",
      "source": [
        "After stratifying the data, we found that just under half of the total Sale Price variation could be attributed to single family homes. We additionally found that both sampling procedures were accurate, in that both of the confidence intervals captured the true mean sale price. However, the stratified sampling method produced confidence intervals that were roughly 10% smaller, indicating an increase in the precision of the estimate. The change in precision is highly dependent upon the variables upon which stratification occurs, and could potentially be further improved by including more/better stratification variables."
      ],
      "metadata": {
        "id": "4_v7tqelAMMv"
      }
    },
    {
      "cell_type": "markdown",
      "metadata": {
        "id": "jqITk5WElw_C"
      },
      "source": [
        "## Linear Regression\n"
      ]
    },
    {
      "cell_type": "markdown",
      "metadata": {
        "id": "PJXhdn9buWFn"
      },
      "source": [
        "We then set out to model the Sale Price as a linear function of a set of the available predictor variables. As the sci-kit learn module necessitates the use of binary operators to represent categorical variables, the first step was to create dummy variables. A binary dummy variable was created for each level of all of the categorical variables. This resulted in a total of 304 predictor variables. Following the creation of dummy variables, we additionally split the dataset 4 to 1 into training and testing sets, respectively.\n",
        "We then created an inital linear model containing all of the avaailable variables. This 'full' model was to act as a benchmark to which later forms of the linear model could be compared. We calculated a Root Mean Squared Error (RMSE) value for the linear model. We chose to use RMSE, as it provides insight into both the accuracy and precision of a model."
      ]
    },
    {
      "cell_type": "code",
      "source": [
        "from sklearn.metrics import mean_squared_error\n",
        "import numpy as np\n",
        "from sklearn.feature_selection import f_regression\n",
        "from sklearn.model_selection import cross_val_score"
      ],
      "metadata": {
        "id": "QQFY7elDhA_1"
      },
      "execution_count": null,
      "outputs": []
    },
    {
      "cell_type": "code",
      "execution_count": null,
      "metadata": {
        "id": "uKh74_jsfGxu"
      },
      "outputs": [],
      "source": [
        "#Add dummy variables (sklearn requires new boolean col for each level of a factor)\n",
        "train_data_dum = (pd.get_dummies(train_data))\n",
        "\n",
        "#Create training and testing datasets\n",
        "x = train_data_dum.loc[:, train_data_dum.columns != 'SalePrice']\n",
        "y = train_data_dum['SalePrice']\n",
        "\n",
        "x_tr, x_val, y_tr, y_val = train_test_split(x, y, test_size=0.2, random_state=100)"
      ]
    },
    {
      "cell_type": "code",
      "execution_count": null,
      "metadata": {
        "id": "FJK4FjV3di3s",
        "colab": {
          "base_uri": "https://localhost:8080/"
        },
        "outputId": "f18ed002-40c1-4e7a-d21e-46a9a1d847c8"
      },
      "outputs": [
        {
          "output_type": "stream",
          "name": "stdout",
          "text": [
            "The RMSE value of the full linear model: $38281.80\n"
          ]
        }
      ],
      "source": [
        "#Inital linear model with all variables\n",
        "model = LinearRegression()\n",
        "mse_val = np.mean(cross_val_score(model, x_tr, y_tr, cv=5, scoring='neg_mean_squared_error'))\n",
        "print(f\"\"\"The RMSE value of the full linear model: ${np.sqrt(abs((mse_val))):.2f}\"\"\")"
      ]
    },
    {
      "cell_type": "markdown",
      "metadata": {
        "id": "XD_7CVQqg0Yw"
      },
      "source": [
        "###Feature Selection\n",
        "\n",
        "The benchmark RMSE from the full linear model was found to be $38,281.90. The next step was to determine the best set of predictors from the 304 variables contained in the dataset. In addition to minimizing the RMSE, we also wanted to substantially reduce the number of variables in the linear model. With these objectives in mind, we sequentially dropped the 15 least significant variables (determined by univariate f tests) and calculated a five-fold cross-validated RMSE value for each iterative step. The RMSE values were then plotted relative to the number of features in the model to visualize the optimal model size."
      ]
    },
    {
      "cell_type": "code",
      "execution_count": null,
      "metadata": {
        "id": "jpFJL5VC2JWK"
      },
      "outputs": [],
      "source": [
        "start_n = 300\n",
        "step = 15\n",
        "pvals = f_regression(x_tr,y_tr)[1]\n",
        "\n",
        "n_features = []\n",
        "rmse = []\n",
        "name_features = []\n",
        "\n",
        "#Loop to iteratively drop the 15 variables with the highest univariate p-values\n",
        "#At each iteration, a RMSE score is calculated through a cross-validated fitting of a linear model to the remianing variables\n",
        "for i in range(start_n//step):\n",
        "  n_col = start_n - i*step\n",
        "  drop_top_mask = np.argpartition(pvals, n_col)[:n_col]\n",
        "  x_tr_i = x_tr.iloc[:,drop_top_mask]\n",
        "  model = LinearRegression()\n",
        "  mse_val = np.mean(cross_val_score(model, x_tr_i, y_tr, cv=5, scoring='neg_mean_squared_error'))\n",
        "\n",
        "  rmse.append(np.sqrt(abs((mse_val))))\n",
        "  n_features.append(n_col)\n",
        "  name_features.append(x_tr_i.columns)\n"
      ]
    },
    {
      "cell_type": "code",
      "execution_count": null,
      "metadata": {
        "id": "DloPCweqVa7B",
        "colab": {
          "base_uri": "https://localhost:8080/",
          "height": 451
        },
        "outputId": "a5df024d-36d2-417f-a4f1-3365ad55bfe1"
      },
      "outputs": [
        {
          "output_type": "display_data",
          "data": {
            "text/plain": [
              "<Figure size 640x480 with 1 Axes>"
            ],
            "image/png": "[encoded data removed]"
          },
          "metadata": {}
        }
      ],
      "source": [
        "plt.plot(n_features, rmse)\n",
        "plt.gca().invert_xaxis()\n",
        "plt.xlabel(\"Number of Features\")\n",
        "plt.ylabel(\"RMSE\");"
      ]
    },
    {
      "cell_type": "markdown",
      "metadata": {
        "id": "JRRfQDqpM4eB"
      },
      "source": [
        "In terms of RMSE, the linear model appears to improve when the feature space is defined by predictor variables with the 80th to 25th lowest overall univariate p-values. For further resolution within this feature space, we repeated the feature selection analysis within this range. However, we dropped only one variable during each iteration."
      ]
    },
    {
      "cell_type": "code",
      "execution_count": null,
      "metadata": {
        "id": "eyF0qgboZ6Wq"
      },
      "outputs": [],
      "source": [
        "start_n = 85\n",
        "step = 1\n",
        "pvals = f_regression(x_tr,y_tr)[1]\n",
        "\n",
        "n_features = []\n",
        "rmse = []\n",
        "name_features = []\n",
        "\n",
        "#Loop to iteratively drop the single variables with the highest univariate p-values\n",
        "#At each iteration, a RMSE score is calculated through a cross-validated fitting of a linear model to the remianing variables\n",
        "for i in range(start_n//step-20):\n",
        "  n_col = start_n - i*step\n",
        "  drop_top_mask = np.argpartition(pvals, n_col)[:n_col]\n",
        "  x_tr_i = x_tr.iloc[:,drop_top_mask]\n",
        "  model = LinearRegression()\n",
        "  mse_val = np.mean(cross_val_score(model, x_tr_i, y_tr, cv=5, scoring='neg_mean_squared_error'))\n",
        "\n",
        "  rmse.append(np.sqrt(abs((mse_val))))\n",
        "  n_features.append(n_col)\n",
        "  name_features.append(x_tr_i.columns)"
      ]
    },
    {
      "cell_type": "code",
      "execution_count": null,
      "metadata": {
        "id": "cDthHqQskQyu",
        "colab": {
          "base_uri": "https://localhost:8080/",
          "height": 449
        },
        "outputId": "e7b3c784-b7b2-4f2a-c57d-4d5898652ea2"
      },
      "outputs": [
        {
          "output_type": "display_data",
          "data": {
            "text/plain": [
              "<Figure size 640x480 with 1 Axes>"
            ],
            "image/png": "[encoded data removed]"
          },
          "metadata": {}
        }
      ],
      "source": [
        "plt.plot(n_features, rmse)\n",
        "plt.gca().invert_xaxis()\n",
        "plt.xlabel(\"Number of Features\")\n",
        "plt.ylabel(\"RMSE\");"
      ]
    },
    {
      "cell_type": "code",
      "execution_count": null,
      "metadata": {
        "id": "huXbz0I0NK-7",
        "colab": {
          "base_uri": "https://localhost:8080/"
        },
        "outputId": "afee0297-d5c6-4a56-9c44-637f13201203"
      },
      "outputs": [
        {
          "output_type": "execute_result",
          "data": {
            "text/plain": [
              "48"
            ]
          },
          "metadata": {},
          "execution_count": 25
        }
      ],
      "source": [
        "min_index = np.argmin(rmse)\n",
        "n_features[min_index]"
      ]
    },
    {
      "cell_type": "code",
      "source": [
        "#New set of x variables consisting of the 48 lowest univariate p-values\n",
        "feature_mask = name_features[min_index]\n",
        "x_tr_linear = x_tr[feature_mask]"
      ],
      "metadata": {
        "id": "XWTr4omYoH-0"
      },
      "execution_count": null,
      "outputs": []
    },
    {
      "cell_type": "markdown",
      "metadata": {
        "id": "Dws0UdZvO3s-"
      },
      "source": [
        "We found that the cross-validated RMSE was minimzed when the linear regression model conssited of predictors that had the 48 lowest univariate p-values. We used only this sett of variables for the further processing steps."
      ]
    },
    {
      "cell_type": "markdown",
      "metadata": {
        "id": "hKehSRHXP4Zz"
      },
      "source": [
        "###Higher Order Relationships\n",
        "Following the above feature selection, we then wanted to look for any higher order relationships. To do this, we isolated all the numeric variables within the selected feature space. For each numeric variable, we fit a linear model with that variable represented as a quadratic term alongside all the other 48 predictor variables. Again, the model was assessed with a RMSE from a five-fold cross-validation procedure. We then plotted each of the models (defined by the feature that was squared) relative to the associated cross-validated RMSE score."
      ]
    },
    {
      "cell_type": "code",
      "execution_count": null,
      "metadata": {
        "id": "gnfg5fXdkBum"
      },
      "outputs": [],
      "source": [
        "#Assess each numeric variable at the quadratic level\n",
        "x_num_col = numerical_columns_train[0:-1]\n",
        "numeric_feature_mask = np.isin(x_num_col, feature_mask)\n",
        "x_num_col = x_num_col[numeric_feature_mask]\n",
        "\n",
        "rmse_vals = []\n",
        "x_var_squared = []\n",
        "\n",
        "#iteratively build model with squared numeric variables\n",
        "for col in x_num_col:\n",
        "  #fit model\n",
        "  x_tr_var2 = (x_tr_linear[col]**2)\n",
        "  x_tr_var2.name = x_tr_linear[col].name + \"2\"\n",
        "  x_tr2 = x_tr_linear.join(x_tr_var2)\n",
        "\n",
        "  model = LinearRegression()\n",
        "  mse_val = np.mean(cross_val_score(model, x_tr2, y_tr, cv=5, scoring='neg_mean_squared_error'))\n",
        "  rmse_vals.append(np.sqrt(abs(mse_val)))\n",
        "  x_var_squared.append(col)\n",
        "\n",
        "quadratic_df = pd.DataFrame({\"variable\":x_var_squared,\"rmse\":rmse_vals})"
      ]
    },
    {
      "cell_type": "code",
      "execution_count": null,
      "metadata": {
        "id": "Npq8kTvSUtzJ",
        "colab": {
          "base_uri": "https://localhost:8080/",
          "height": 540
        },
        "outputId": "7c698775-3322-4dc3-aaac-0726470bf5a2"
      },
      "outputs": [
        {
          "output_type": "display_data",
          "data": {
            "text/plain": [
              "<Figure size 640x480 with 1 Axes>"
            ],
            "image/png": "[encoded data removed]"
          },
          "metadata": {}
        }
      ],
      "source": [
        "plt.bar(quadratic_df['variable'], quadratic_df['rmse'])\n",
        "plt.xticks(rotation=90)\n",
        "plt.xlabel(\"Squared Variable\")\n",
        "plt.ylabel(\"RMSE\");"
      ]
    },
    {
      "cell_type": "markdown",
      "metadata": {
        "id": "0CLjsVtNRKFp"
      },
      "source": [
        "We found that the inclusion of a quadratic representation of 'BsmtFinSF1' and '1stFlrSF' results in a slight decrease of the RMSE. However, we decided that the small reduction in the RMSE did not justify the added complexity brought on by higher order terms. For this reason, we decided to use the 48 feature model without any higher order terms as the final linear model.\n",
        "\n",
        "###Model Assumptions\n"
      ]
    },
    {
      "cell_type": "markdown",
      "source": [
        "Following the confirmation of our final model, we set out to assess the models validity. Specifically, we wanted to examine the homoscedasticity, linearity, normality, and independecne assumptions. We started out byb plotting the residuals of the predicted Sales Price relative to the actual Sales Price."
      ],
      "metadata": {
        "id": "w3Ogh_jmqFNN"
      }
    },
    {
      "cell_type": "code",
      "execution_count": null,
      "metadata": {
        "id": "EWmLiylAcD-h"
      },
      "outputs": [],
      "source": [
        "model = LinearRegression()\n",
        "model.fit(x_tr_linear, y_tr)\n",
        "predictions = model.predict(x_tr_linear)\n",
        "residuals = abs(y_tr) - abs(predictions)\n",
        "df_resid = pd.DataFrame({'predictions': predictions, 'actual': y_tr, 'residuals': residuals})\n",
        "\n",
        "df_resid.sort_values(by = 'actual',inplace = True)\n",
        "#line_coords = np.arange(df_results.min().min(), df_results.max().max())"
      ]
    },
    {
      "cell_type": "code",
      "execution_count": null,
      "metadata": {
        "id": "gHdgDsEGch94",
        "colab": {
          "base_uri": "https://localhost:8080/",
          "height": 466
        },
        "outputId": "0bd16652-93c5-4f9a-c9bb-6fd0d7c5b880"
      },
      "outputs": [
        {
          "output_type": "execute_result",
          "data": {
            "text/plain": [
              "<matplotlib.lines.Line2D at 0x7fcf823d8400>"
            ]
          },
          "metadata": {},
          "execution_count": 173
        },
        {
          "output_type": "display_data",
          "data": {
            "text/plain": [
              "<Figure size 640x480 with 1 Axes>"
            ],
            "image/png": "[encoded data removed]"
          },
          "metadata": {}
        }
      ],
      "source": [
        "plt.scatter(df_resid['actual'], df_resid['residuals'])\n",
        "plt.xlabel(\"Actual Sales Price\")\n",
        "plt.ylabel(\"Residuals\")\n",
        "plt.axhline(0, color='darkorange')"
      ]
    },
    {
      "cell_type": "markdown",
      "source": [
        "The results show a general clustering of residuals around actual Sales Price, when the actual Sale Price is low. However, there is a clear pattern wherein the magnitude of the residuals increases in the positive direction for higher actual Sales Price. Based on this, it does not appear that the linear model meets the homoscedasticity assumption. To further quantify these results, we conducted a Breusch-Pagan test."
      ],
      "metadata": {
        "id": "mhQ3FJC0qjHn"
      }
    },
    {
      "cell_type": "code",
      "execution_count": null,
      "metadata": {
        "id": "_XgR1VpxbugY",
        "colab": {
          "base_uri": "https://localhost:8080/"
        },
        "outputId": "7a28ac20-7fb7-4e18-c694-dff0350cd3d2"
      },
      "outputs": [
        {
          "output_type": "execute_result",
          "data": {
            "text/plain": [
              "[('Lagrange multiplier statistic', 529.6009866189323),\n",
              " ('p-value', 2.2518373121511323e-82),\n",
              " ('f-value', 19.768637741510705),\n",
              " ('f p-value', 4.827658011342691e-115)]"
            ]
          },
          "metadata": {},
          "execution_count": 172
        }
      ],
      "source": [
        "import statsmodels.formula.api as smf\n",
        "from statsmodels.compat import lzip\n",
        "import statsmodels.stats.api as sms\n",
        "import statsmodels.api as sm\n",
        "\n",
        "x_ols = sm.add_constant(x_tr_linear)\n",
        "model = sm.OLS(y_tr,x_ols)\n",
        "results = model.fit()\n",
        "bp_test = sms.het_breuschpagan(results.resid, results.model.exog)\n",
        "\n",
        "names = ['Lagrange multiplier statistic',\n",
        "         'p-value',\n",
        "         'f-value',\n",
        "         'f p-value']\n",
        "\n",
        "lzip(names, bp_test)\n",
        "\n",
        "#The bp test indicates that model fails the homoscedasticity assumption"
      ]
    },
    {
      "cell_type": "markdown",
      "source": [
        "This low p-value of the Bresch-Pagan test confirmed our suspicion that the  linear model does not meet the assumption of homoscedasticity. Additionally, it appears unlikely that the model would meet the multicollinearity and normality requirements. Additionally, many of the predictor variables can not be said to be independent (e.g. lot frontage and lot area). Nevertheless, we decided to proceed to the model testing stage in order to obtain an approximation of the predictive capabilities of a linear model."
      ],
      "metadata": {
        "id": "i5n-PU4ZE4mY"
      }
    },
    {
      "cell_type": "markdown",
      "metadata": {
        "id": "_gYjtZ_MbMp4"
      },
      "source": [
        "\n",
        "###Model Testing\n",
        "To test the accuracy and precision of the final model, we fit the selected model with all available training data nad assessed it against the withheld testing data. We calculated corresponding RMSE and R^2 values."
      ]
    },
    {
      "cell_type": "code",
      "execution_count": null,
      "metadata": {
        "id": "J0vsqhCMka3_",
        "colab": {
          "base_uri": "https://localhost:8080/"
        },
        "outputId": "ff00f9b0-865a-46a5-bc82-32e7dcba18ad"
      },
      "outputs": [
        {
          "output_type": "stream",
          "name": "stdout",
          "text": [
            "RMSE: 31539.07\n",
            "R^2: 0.84\n"
          ]
        }
      ],
      "source": [
        "col_mask = x_tr_linear.columns\n",
        "x_val_linear = x_val[col_mask]\n",
        "\n",
        "model = LinearRegression()\n",
        "model.fit(x_tr_linear, y_tr)\n",
        "y_hat = model.predict(x_val_linear)\n",
        "\n",
        "rmse_val = np.sqrt(mean_squared_error(y_val, y_hat))\n",
        "r2 = model.score(x_tr_linear, y_tr)\n",
        "\n",
        "print(f\"\"\"RMSE: {rmse_val:.2f}\"\"\")\n",
        "print(f\"\"\"R^2: {r2:.2f}\"\"\")"
      ]
    },
    {
      "cell_type": "markdown",
      "source": [
        "We found that the resulting RMSE value of $31,539.07 was about 20% lower than that of the full model. This indicates that our selection of variables appears to have increased both the precision and accuracy of the model. However, the lack of validity indicates that the results in this study should not be generalized."
      ],
      "metadata": {
        "id": "UZiwSMVMEXvB"
      }
    },
    {
      "cell_type": "markdown",
      "metadata": {
        "id": "ltfHfUW_chKO"
      },
      "source": [
        "## Decision Tree Regression"
      ]
    },
    {
      "cell_type": "markdown",
      "metadata": {
        "id": "U4PDv9dGhKVr"
      },
      "source": [
        "The decision tree is a simple machine learning model for getting started with regression tasks.\n",
        "\n",
        "Background A decision tree is a flow-chart-like structure, where each internal (non-leaf) node denotes a test on an attribute, each branch represents the outcome of a test, and each leaf (or terminal) node holds a class label. The topmost node in a tree is the root node. (see here for more details)."
      ]
    },
    {
      "cell_type": "code",
      "execution_count": null,
      "metadata": {
        "id": "R53ljAAAhLhC"
      },
      "outputs": [],
      "source": [
        "import numpy as np\n",
        "import seaborn as sns\n",
        "import matplotlib.pyplot as plt\n",
        "from scipy.stats import norm\n",
        "import scipy.stats as stats\n",
        "#Converting all the non numeric data in train_data to numeric data for training using Labelencoder\n",
        "from sklearn.preprocessing import LabelEncoder\n",
        "\n",
        "# Create a LabelEncoder instance\n",
        "label_encoder = LabelEncoder()\n",
        "\n",
        "# Iterate through each column in train_data\n",
        "for col in train_data.columns:\n",
        "    # Check if the column dtype is object (non-numeric)\n",
        "    if train_data[col].dtype == 'object':\n",
        "        # Fit label encoder and transform values for the column\n",
        "        train_data[col] = label_encoder.fit_transform(train_data[col])\n",
        "\n",
        "# Display the modified train_data\n",
        "print(train_data.head())\n"
      ]
    },
    {
      "cell_type": "code",
      "execution_count": null,
      "metadata": {
        "id": "E5d2nIsUh5_A"
      },
      "outputs": [],
      "source": [
        "#Plot a correlation heatmap to see where correlation exist\n",
        "plt.figure(figsize=(30,8))\n",
        "sns.heatmap(train_data.corr(), cmap='viridis', annot=True)\n",
        "plt.show()"
      ]
    },
    {
      "cell_type": "markdown",
      "metadata": {
        "id": "isIHbRGkh9yp"
      },
      "source": [
        "## Applying Decision tree Regressor On the entire Train **Data**"
      ]
    },
    {
      "cell_type": "markdown",
      "metadata": {
        "id": "XdvTZT4Ah_Jv"
      },
      "source": [
        "Train Test Split"
      ]
    },
    {
      "cell_type": "code",
      "execution_count": null,
      "metadata": {
        "id": "vArg2ULPiNj7"
      },
      "outputs": [],
      "source": [
        "from sklearn.model_selection import train_test_split\n",
        "train_data1=train_data\n",
        "X_train, X_test, y_train, y_test = train_test_split(train_data1.drop('SalePrice', axis=1), train_data1['SalePrice'], test_size=0.3, random_state=100)\n",
        "\n",
        "# we are going to scale to data\n",
        "y_train= y_train.values.reshape(-1,1)\n",
        "y_test= y_test.values.reshape(-1,1)\n",
        "\n",
        "from sklearn.preprocessing import StandardScaler\n",
        "sc_X = StandardScaler()\n",
        "sc_y = StandardScaler()\n",
        "X_train = sc_X.fit_transform(X_train)\n",
        "X_test = sc_X.fit_transform(X_test)\n",
        "y_train = sc_X.fit_transform(y_train)\n",
        "y_test = sc_y.fit_transform(y_test)\n",
        "\n",
        "### Creating and Training the model\n",
        "from sklearn.tree import DecisionTreeRegressor\n",
        "dtreg1 = DecisionTreeRegressor (random_state=100)\n",
        "dtreg1.fit(X_train, y_train)\n"
      ]
    },
    {
      "cell_type": "markdown",
      "metadata": {
        "id": "G6KZQb-eiWMz"
      },
      "source": [
        "### Predictions from our Model"
      ]
    },
    {
      "cell_type": "code",
      "execution_count": null,
      "metadata": {
        "id": "c0mU830AiXGB"
      },
      "outputs": [],
      "source": [
        "dtr_pred1 = dtreg1.predict(X_test)\n",
        "dtr_pred1 = dtr_pred1.reshape(-1,1)"
      ]
    },
    {
      "cell_type": "markdown",
      "metadata": {
        "id": "iCVuQOsZiNLq"
      },
      "source": [
        "### Regression Evaluation Metrics"
      ]
    },
    {
      "cell_type": "code",
      "execution_count": null,
      "metadata": {
        "id": "ZS2tOUUdih_8"
      },
      "outputs": [],
      "source": [
        "from sklearn import metrics\n",
        "from sklearn.metrics import mean_squared_error, r2_score\n",
        "print(\"Mean Absolute error is:\", metrics.mean_absolute_error(y_test, dtr_pred1))\n",
        "print(\"Mean Squared Error is:\", metrics.mean_squared_error(y_test, dtr_pred1))\n",
        "print(\"The RMSE values is:\", np.sqrt(metrics.mean_squared_error(y_test, dtr_pred1)))\n",
        "print(\"R-squared (R^2) score:\", r2_score(y_test, dtr_pred1))"
      ]
    },
    {
      "cell_type": "code",
      "execution_count": null,
      "metadata": {
        "id": "SNtfcatFiz_9"
      },
      "outputs": [],
      "source": [
        "plt.figure(figsize=(15,10))\n",
        "plt.scatter(y_test, dtr_pred1,c=\"lightblue\")\n",
        "plt.xlabel(\"y_test\")\n",
        "plt.ylabel(\"Predicted y\")\n",
        "plt.show()"
      ]
    },
    {
      "cell_type": "code",
      "execution_count": null,
      "metadata": {
        "id": "1iifGo_VuVRu"
      },
      "outputs": [],
      "source": [
        "from sklearn.model_selection import KFold\n",
        "from sklearn.metrics import mean_squared_error\n",
        "import numpy as np\n",
        "\n",
        "# Define the number of folds\n",
        "k_folds = 5\n",
        "\n",
        "# Initialize KFold\n",
        "kf = KFold(n_splits=k_folds, shuffle=True, random_state=42)\n",
        "\n",
        "# Initialize an empty list to store the mean squared errors for each fold\n",
        "mse_scores = []\n",
        "\n",
        "# Perform k-fold cross-validation\n",
        "for train_index, val_index in kf.split(X_train):\n",
        "    X_train_fold, X_val_fold = X_train[train_index], X_train[val_index]\n",
        "    y_train_fold, y_val_fold = y_train[train_index], y_train[val_index]\n",
        "\n",
        "    # Fit the model\n",
        "    dtreg_fold = DecisionTreeRegressor(random_state=100)\n",
        "    dtreg_fold.fit(X_train_fold, y_train_fold)\n",
        "\n",
        "    # Predict on the validation set\n",
        "    y_pred_fold = dtreg_fold.predict(X_val_fold)\n",
        "\n",
        "    # Calculate mean squared error for this fold\n",
        "    mse_fold = mean_squared_error(y_val_fold, y_pred_fold)\n",
        "    mse_scores.append(mse_fold)\n",
        "\n",
        "# Calculate the average mean squared error across all folds\n",
        "avg_mse = np.mean(mse_scores)\n",
        "print(\"Average Mean Squared Error across\", k_folds, \"folds:\", avg_mse)"
      ]
    },
    {
      "cell_type": "markdown",
      "metadata": {
        "id": "CwMwtnKDjFa1"
      },
      "source": [
        "# Decision tree using only >0.5 correlation score features"
      ]
    },
    {
      "cell_type": "markdown",
      "metadata": {
        "id": "-YC6FtAgifin"
      },
      "source": [
        "First Lets find the features with >0.5 correlation"
      ]
    },
    {
      "cell_type": "code",
      "execution_count": null,
      "metadata": {
        "id": "Lj6VIfnTjJxP"
      },
      "outputs": [],
      "source": [
        "corr=train_data.corr()\n",
        "corr[corr['SalePrice']>0.5].index"
      ]
    },
    {
      "cell_type": "code",
      "execution_count": null,
      "metadata": {
        "id": "xJ4N4FsLjN3q"
      },
      "outputs": [],
      "source": [
        "#Dropping columns less than 0.5 correlation with SalePrice\n",
        "train_data2=train_data[['OverallQual', 'YearBuilt', 'YearRemodAdd', 'TotalBsmtSF', '1stFlrSF',\n",
        "       'GrLivArea', 'FullBath', 'TotRmsAbvGrd', 'GarageCars', 'GarageArea',\n",
        "       'SalePrice']]\n",
        "#Plot a correlation heatmap to see where correlation exist of selected features of train_data\n",
        "plt.figure(figsize=(30,15))\n",
        "sns.heatmap(train_data2.corr(), cmap='viridis', annot=True)\n",
        "plt.show()"
      ]
    },
    {
      "cell_type": "markdown",
      "metadata": {
        "id": "IN4P2jqNjnsv"
      },
      "source": [
        "#### Using Decision tree regressor for training the model with only 11 features"
      ]
    },
    {
      "cell_type": "code",
      "execution_count": null,
      "metadata": {
        "id": "sYfVhjbIjsac"
      },
      "outputs": [],
      "source": [
        "from sklearn.model_selection import train_test_split\n",
        "X1_train, X1_test, y1_train, y1_test = train_test_split(train_data2.drop('SalePrice', axis=1), train_data2['SalePrice'], test_size=0.3, random_state=100)\n",
        "\n",
        "# we are going to scale to data\n",
        "y1_train= y1_train.values.reshape(-1,1)\n",
        "y1_test= y1_test.values.reshape(-1,1)\n",
        "\n",
        "from sklearn.preprocessing import StandardScaler\n",
        "sc_X1 = StandardScaler()\n",
        "sc_y1 = StandardScaler()\n",
        "X1_train = sc_X1.fit_transform(X1_train)\n",
        "X1_test = sc_X1.fit_transform(X1_test)\n",
        "y1_train = sc_X1.fit_transform(y1_train)\n",
        "y1_test = sc_y1.fit_transform(y1_test)\n",
        "\n",
        "from sklearn.tree import DecisionTreeRegressor\n",
        "dtreg2 = DecisionTreeRegressor (random_state=100)\n",
        "dtreg2.fit(X1_train, y1_train)\n",
        "\n",
        "dtr_pred2 = dtreg2.predict(X1_test)\n",
        "dtr_pred2 = dtr_pred2.reshape(-1,1)\n",
        "from sklearn import metrics\n",
        "from sklearn.metrics import mean_squared_error, r2_score\n",
        "print(\"Mean Absolute error is:\", metrics.mean_absolute_error(y1_test, dtr_pred2))\n",
        "print(\"Mean Squared Error is:\", metrics.mean_squared_error(y1_test, dtr_pred2))\n",
        "print(\"The RMSE values is:\", np.sqrt(metrics.mean_squared_error(y1_test, dtr_pred2)))\n",
        "print(\"R-squared (R^2) score:\", r2_score(y1_test, dtr_pred2))"
      ]
    },
    {
      "cell_type": "markdown",
      "metadata": {
        "id": "5TxISgCxjGoy"
      },
      "source": [
        "# Let's try Decision tree using the highly correlated features >0.70"
      ]
    },
    {
      "cell_type": "markdown",
      "metadata": {
        "id": "MQ9gjWIAkqrw"
      },
      "source": [
        "### Decision tree model using only OverallQual and GrLivArea (as per correlation matrix >0.70) since they had the best correlation with saleprice"
      ]
    },
    {
      "cell_type": "code",
      "execution_count": null,
      "metadata": {
        "id": "VdiBMnV8ksEE"
      },
      "outputs": [],
      "source": [
        "from sklearn.model_selection import train_test_split\n",
        "from sklearn.preprocessing import StandardScaler\n",
        "from sklearn.tree import DecisionTreeRegressor\n",
        "from sklearn import metrics\n",
        "\n",
        "# Selecting only the features \"OverallQual\" and \"GrLivArea\"\n",
        "X2_train = train_data[['OverallQual', 'GrLivArea']]\n",
        "y2_train = train_data['SalePrice']\n",
        "\n",
        "# Splitting the dataset into training and testing sets\n",
        "X2_train, X2_test, y2_train, y2_test = train_test_split(X2_train, y2_train, test_size=0.3, random_state=100)\n",
        "\n",
        "# we are going to scale to data\n",
        "y2_train= y2_train.values.reshape(-1,1)\n",
        "y2_test= y2_test.values.reshape(-1,1)\n",
        "\n",
        "from sklearn.preprocessing import StandardScaler\n",
        "sc_X2 = StandardScaler()\n",
        "sc_y2 = StandardScaler()\n",
        "X2_train = sc_X2.fit_transform(X2_train)\n",
        "X2_test = sc_X2.fit_transform(X2_test)\n",
        "y2_train = sc_X2.fit_transform(y2_train)\n",
        "y2_test = sc_y2.fit_transform(y2_test)\n",
        "\n",
        "### Creating and Training the model\n",
        "from sklearn.tree import DecisionTreeRegressor\n",
        "dtreg3 = DecisionTreeRegressor (random_state=100)\n",
        "dtreg3.fit(X2_train, y2_train)\n",
        "\n",
        "dtr_pred3 = dtreg3.predict(X2_test)\n",
        "dtr_pred3 = dtr_pred3.reshape(-1,1)\n",
        "\n",
        "from sklearn import metrics\n",
        "from sklearn.metrics import mean_squared_error, r2_score\n",
        "print(\"Mean Absolute error is:\", metrics.mean_absolute_error(y2_test, dtr_pred3))\n",
        "print(\"Mean Squared Error is:\", metrics.mean_squared_error(y2_test, dtr_pred3))\n",
        "print(\"The RMSE values is:\", np.sqrt(metrics.mean_squared_error(y2_test, dtr_pred3)))\n",
        "print(\"R-squared (R^2) score:\", r2_score(y2_test, dtr_pred3))"
      ]
    },
    {
      "cell_type": "markdown",
      "metadata": {
        "id": "nxqE6n5YlD59"
      },
      "source": [
        "I observed using the Entire training data for decision tree regressor gave the lowest Mean Absolute error is: 0.31656286926639154, Mean Squared Error is: 0.22257257669037064, The RMSE values is: 0.47177598146829247\n",
        "And Highest R-squared (R^2) score: 0.7774274233096293\n",
        "Hence using the entire Training data, the Predicted Home SalePrice is as follows:"
      ]
    },
    {
      "cell_type": "code",
      "execution_count": null,
      "metadata": {
        "id": "Fea-vqQ2lOve"
      },
      "outputs": [],
      "source": [
        "# Inverse transform the scaled predicted values to get the original scale\n",
        "predicted_saleprice = sc_y.inverse_transform(dtr_pred1.reshape(-1, 1))\n",
        "predicted_saleprice"
      ]
    },
    {
      "cell_type": "markdown",
      "metadata": {
        "id": "trd0tmL9vWGy"
      },
      "source": [
        "# K-fold cross validation for model on the entire training dataset, (first model of decision tree since it was the most optimal)"
      ]
    },
    {
      "cell_type": "code",
      "execution_count": null,
      "metadata": {
        "id": "0yDub09MvVej"
      },
      "outputs": [],
      "source": [
        "from sklearn.model_selection import KFold\n",
        "from sklearn.metrics import mean_squared_error\n",
        "import numpy as np\n",
        "\n",
        "# Define the number of folds\n",
        "k_folds = 5\n",
        "\n",
        "# Initialize KFold\n",
        "kf = KFold(n_splits=k_folds, shuffle=True, random_state=42)\n",
        "\n",
        "# Initialize an empty list to store the mean squared errors for each fold\n",
        "mse_scores = []\n",
        "\n",
        "# Perform k-fold cross-validation\n",
        "for train_index, val_index in kf.split(X_train):\n",
        "    X_train_fold, X_val_fold = X_train[train_index], X_train[val_index]\n",
        "    y_train_fold, y_val_fold = y_train[train_index], y_train[val_index]\n",
        "\n",
        "    # Fit the model\n",
        "    dtreg_fold = DecisionTreeRegressor(random_state=100)\n",
        "    dtreg_fold.fit(X_train_fold, y_train_fold)\n",
        "\n",
        "    # Predict on the validation set\n",
        "    y_pred_fold = dtreg_fold.predict(X_val_fold)\n",
        "\n",
        "    # Calculate mean squared error for this fold\n",
        "    mse_fold = mean_squared_error(y_val_fold, y_pred_fold)\n",
        "    mse_scores.append(mse_fold)\n",
        "\n",
        "# Calculate the average mean squared error across all folds\n",
        "avg_mse = np.mean(mse_scores)\n",
        "print(\"Average Mean Squared Error across\", k_folds, \"folds:\", avg_mse)"
      ]
    },
    {
      "cell_type": "markdown",
      "metadata": {
        "id": "IU1gQz_uvwvl"
      },
      "source": [
        "An average MSE of 0.28048201136964596 suggests that the decision tree regressor model performs reasonably well on this dataset, but a comparison with alternative models like Linear regression model and Random forest model may be necessary for a comprehensive evaluation."
      ]
    },
    {
      "cell_type": "markdown",
      "metadata": {
        "id": "mxMag5PVsaV0"
      },
      "source": [
        "# Calculate Model Score\n",
        "\n",
        "Let's calculate the model score to understand how our model performed along with the explained variance score."
      ]
    },
    {
      "cell_type": "code",
      "execution_count": null,
      "metadata": {
        "id": "eSQhazDqsMxO"
      },
      "outputs": [],
      "source": [
        "print(\"Decision tree  Regression Model Score is \",round(dtreg1.score(X_test,y_test)*100))"
      ]
    },
    {
      "cell_type": "markdown",
      "metadata": {
        "id": "4doq2PhHyraL"
      },
      "source": [
        "# Random Forest Regression\n",
        "* A robust ensemble technique that creates numerous decision trees during the training process.\n",
        "* Designed to minimize overfitting by combining the outputs of individual trees, enhancing the model's accuracy.\n",
        "* Constructs each tree using a bootstrap sample from the training data, promoting diversity within the model.\n",
        "* Employs out-of-bag (OOB) samples for evaluating accuracy, eliminating the requirement for an exclusive validation set."
      ]
    },
    {
      "cell_type": "markdown",
      "metadata": {
        "id": "Ah5LCtagzrMZ"
      },
      "source": [
        "##Prepare Data"
      ]
    },
    {
      "cell_type": "code",
      "execution_count": null,
      "metadata": {
        "id": "LukTM59Cy80X"
      },
      "outputs": [],
      "source": [
        "#Add dummy variables (sklearn requires new boolean col for each level of a factor)\n",
        "train_data_dum = (pd.get_dummies(train_data))\n",
        "X = train_data_dum.drop([ 'SalePrice'],axis = 1)\n",
        "y = train_data_dum['SalePrice']\n",
        "#Split data to train and test\n",
        "X_train, X_test, y_train, y_test = train_test_split(X, y, test_size=0.2, random_state=100)\n",
        "X_train.shape\n",
        "# Initialize an empty DataFrame for results\n",
        "df_reduced_RMSE_R2 = pd.DataFrame(columns=[\"Model\", \"RMSE\", \"R2\"])\n"
      ]
    },
    {
      "cell_type": "markdown",
      "metadata": {
        "id": "rYXuQLVxzL2Z"
      },
      "source": [
        "##Step 1: Model Building\n",
        "Train a RandomForestRegressor with default parameters to assess baseline performance."
      ]
    },
    {
      "cell_type": "code",
      "execution_count": null,
      "metadata": {
        "id": "9qs1C1K1zLJ5"
      },
      "outputs": [],
      "source": [
        "# Step 1: Train a baseline RandomForestRegressor model\n",
        "baseline_model = RandomForestRegressor(oob_score=True, random_state=10)\n",
        "baseline_model.fit(X_train, y_train)\n",
        "baseline_oob_score = baseline_model.oob_score_\n",
        "print(f\"Baseline OOB Score: {baseline_oob_score:.4f}\")\n",
        "#Predict and find the RMSE value\n",
        "y_pred = baseline_model.predict(X_test)\n",
        "baseline_rmse = np.sqrt(mean_squared_error(y_test, y_pred))\n",
        "print(f\"Baseline RMSE Score: {baseline_rmse:.4f}\")\n",
        "\n",
        "baseline_r2score = r2_score(y_test, y_pred)\n",
        "print(f\"Baseline R2 Score: {baseline_r2score:.4f}\")\n",
        "# Add results to the DataFrame\n",
        "new_row = {\"Model\": \"Baseline\", \"RMSE\": baseline_rmse, \"R2\": baseline_r2score}\n",
        "df_reduced_RMSE_R2 =  df_reduced_RMSE_R2.append(new_row, ignore_index=True)"
      ]
    },
    {
      "cell_type": "markdown",
      "metadata": {
        "id": "HG0md_Gj2dSZ"
      },
      "source": [
        "\n",
        "##Step 2: Hyperparameter Tuning\n",
        "\n",
        "With our baseline model established, the next step involves fine-tuning the hyperparameters"
      ]
    },
    {
      "cell_type": "code",
      "execution_count": null,
      "metadata": {
        "id": "pwT-16uF1Mom"
      },
      "outputs": [],
      "source": [
        "# Step 2: Train a  RandomForestRegressor model with hyper parameter tuning (Manually trying)\n",
        "manual_model = RandomForestRegressor(oob_score=True, criterion='squared_error', random_state = 13)\n",
        "manual_model.fit(X_train, y_train)\n",
        "manual_oob_score = manual_model.oob_score_\n",
        "print(f\"Manual HyperParameter tuning OOB Score: {manual_oob_score:.4f}\")\n",
        "#Predict and find the RMSE value\n",
        "y_pred = manual_model.predict(X_test)\n",
        "manual_rmse = np.sqrt(mean_squared_error(y_test, y_pred))\n",
        "print(f\"Manual HyperParameter tuning  RMSE Score: {manual_rmse:.4f}\")\n",
        "\n",
        "manual_r2score = r2_score(y_test, y_pred)\n",
        "print(f\"Manual HyperParameter tuning  R2 Score: {manual_r2score:.4f}\")\n",
        "\n",
        "# Add results to the DataFrame\n",
        "new_row = {\"Model\": \"Manual HyperParameter Tuning\", \"RMSE\": manual_rmse, \"R2\": manual_r2score}\n",
        "df_reduced_RMSE_R2 =  df_reduced_RMSE_R2.append(new_row, ignore_index=True)"
      ]
    },
    {
      "cell_type": "markdown",
      "metadata": {
        "id": "8ij8XZge6-N2"
      },
      "source": [
        "Use RandomizedSearchCV to find the optimal hyperparameters for your RandomForestRegressor."
      ]
    },
    {
      "cell_type": "code",
      "execution_count": null,
      "metadata": {
        "id": "6ECNGYeP7_h4"
      },
      "outputs": [],
      "source": [
        "# Define parameter grid for RandomizedSearchCV\n",
        "param_grid = {\n",
        "              'n_estimators': [100, 200],\n",
        "              'max_depth': [None, 10, 20],\n",
        "              'min_samples_split': [2, 5],\n",
        "              'min_samples_leaf': [1, 2],\n",
        "              'max_features': ['auto', 'sqrt',1.0],\n",
        "              'criterion':['squared_error']\n",
        "              }\n",
        "\n",
        "# Initialize RandomizedSearchCV\n",
        "search_model =  RandomizedSearchCV(\n",
        "                            estimator=RandomForestRegressor(random_state=42),\n",
        "                            param_distributions=param_grid,\n",
        "                            cv=5,\n",
        "                            scoring='neg_mean_squared_error',\n",
        "                            n_jobs=-1\n",
        "                            )\n",
        "\n",
        "\n",
        "search_model.fit(X_train, y_train)"
      ]
    },
    {
      "cell_type": "code",
      "execution_count": null,
      "metadata": {
        "id": "Ve0f98lb9qOh"
      },
      "outputs": [],
      "source": [
        "#Predict and find the RMSE value\n",
        "y_pred = search_model.predict(X_test)\n",
        "search_rmse = np.sqrt(mean_squared_error(y_test, y_pred))\n",
        "print(f\"Grid Search HyperParameter tuning  RMSE Score: {search_rmse:.4f}\")\n",
        "\n",
        "search_r2score = r2_score(y_test, y_pred)\n",
        "print(f\"Grid Search HyperParameter tuning  R2 Score: {search_r2score}\")\n",
        "\n",
        "# Add results to the DataFrame\n",
        "new_row = {\"Model\": \"GridSearchCV\", \"RMSE\": search_rmse, \"R2\": search_r2score}\n",
        "df_reduced_RMSE_R2 =  df_reduced_RMSE_R2.append(new_row, ignore_index=True)"
      ]
    },
    {
      "cell_type": "markdown",
      "metadata": {
        "id": "jp-a3MsU-p7l"
      },
      "source": [
        "##Step 3: Feature Importance\n",
        "Feature importance in machine learning models refers to techniques or methods used to understand the significance or contribution of input variables to the model's predictions. It helps in identifying which features have the most influence on the predicted outcomes, allowing for a better understanding of the data's underlying structure and the model's behavior.\n",
        "So our motive is to nnalyze feature importance, remove non-influential features, and refine  model."
      ]
    },
    {
      "cell_type": "code",
      "execution_count": null,
      "metadata": {
        "id": "ochd0bFJ_rQm"
      },
      "outputs": [],
      "source": [
        "#Evaluate feature importance for all features\n",
        "#best_model = search_model.best_estimator_\n",
        "best_model = manual_model\n",
        "feature_importances = best_model.feature_importances_\n",
        "\n",
        "features = pd.DataFrame({'Feature': X_train.columns, 'Importance': feature_importances}).sort_values(by='Importance', ascending=False)\n",
        "features = features[features['Importance'] > 0]\n",
        "num_features = len(features[\"Importance\"])\n",
        "features"
      ]
    },
    {
      "cell_type": "code",
      "execution_count": null,
      "metadata": {
        "id": "pT-uEEPwEZKC"
      },
      "outputs": [],
      "source": [
        "\n",
        "\n",
        "# Creating the bar plot to show the selected features and their importance\n",
        "plt.figure(figsize=(20, 6))\n",
        "plt.bar(features['Feature'], features['Importance'], color='skyblue')\n",
        "plt.xlabel('Feature')\n",
        "plt.ylabel('Importance')\n",
        "plt.title(f\"Feature Importance for  {num_features} features\")\n",
        "plt.xticks(rotation=90,fontsize = 5)\n",
        "plt.show()"
      ]
    },
    {
      "cell_type": "markdown",
      "metadata": {
        "id": "PAvHs-xnrlKQ"
      },
      "source": [
        "## Selecting top features with cumulative Importance as 95%"
      ]
    },
    {
      "cell_type": "code",
      "execution_count": null,
      "metadata": {
        "id": "Fw6iMiKBAReU"
      },
      "outputs": [],
      "source": [
        "# Calculating cumulative sum of 'importance'\n",
        "features['cum_importance'] = features['Importance'].cumsum()\n",
        "\n",
        "# Selecting rows where 'cum_importance' is up to 0.95\n",
        "selected_features_95 = features[features['cum_importance'] <= 0.95]\n",
        "num_selected_features_95 = len(selected_features_95.Feature)\n",
        "print(f\"Number of selected Features with 95% cumulative importance is {num_selected_features_95}\")\n",
        "selected_features_95.head()"
      ]
    },
    {
      "cell_type": "code",
      "execution_count": null,
      "metadata": {
        "id": "XwB2Svn4DEjc"
      },
      "outputs": [],
      "source": [
        "\n",
        "# Creating the bar plot to show the selected features and their importance\n",
        "plt.figure(figsize=(20, 6))\n",
        "plt.bar(selected_features_95['Feature'], selected_features_95['Importance'], color='skyblue')\n",
        "plt.xlabel('Feature')\n",
        "plt.ylabel('Importance')\n",
        "plt.title(f\"Feature Importance for selected {num_selected_features_95} features with cumulative 95% importance\")\n",
        "plt.xticks(rotation=90)\n",
        "plt.show()"
      ]
    },
    {
      "cell_type": "markdown",
      "source": [
        "## Selecting top features with cumulative Importance as 90%"
      ],
      "metadata": {
        "id": "QOIok9wJzM6B"
      }
    },
    {
      "cell_type": "code",
      "execution_count": null,
      "metadata": {
        "id": "T9Esof2apJmq"
      },
      "outputs": [],
      "source": [
        "\n",
        "\n",
        "# Selecting rows where 'cum_importance' is up to 0.90\n",
        "selected_features_90 = features[features['cum_importance'] <= 0.90]\n",
        "num_selected_features_90 = len(selected_features_90.Feature)\n",
        "print(f\"Number of selected Features with 90% cumulative importance is {num_selected_features_90}\")\n",
        "selected_features_90.head()"
      ]
    },
    {
      "cell_type": "code",
      "execution_count": null,
      "metadata": {
        "id": "3vQ8muddpqhY"
      },
      "outputs": [],
      "source": [
        "# Creating the bar plot to show the selected features and their importance\n",
        "plt.figure(figsize=(20, 6))\n",
        "plt.bar(selected_features_90['Feature'], selected_features_90['Importance'], color='skyblue')\n",
        "plt.xlabel('Feature')\n",
        "plt.ylabel('Importance')\n",
        "plt.title(f\"Feature Importance for selected {num_selected_features_90} features with cumulative 90% importance\")\n",
        "plt.xticks(rotation=90)\n",
        "plt.show()"
      ]
    },
    {
      "cell_type": "markdown",
      "source": [
        "## Selecting top 10 features"
      ],
      "metadata": {
        "id": "_nc4Mm8MzUBY"
      }
    },
    {
      "cell_type": "code",
      "execution_count": null,
      "metadata": {
        "id": "UA6DUb3LrPGE"
      },
      "outputs": [],
      "source": [
        "#Lastly we check the top 10 features\n",
        "selected_features_top_10 = features.head(10)\n",
        "\n",
        "# Creating the bar plot to show the selected features and their importance\n",
        "plt.figure(figsize=(20, 6))\n",
        "plt.bar(selected_features_top_10['Feature'], selected_features_top_10['Importance'], color='skyblue')\n",
        "plt.xlabel('Feature')\n",
        "plt.ylabel('Importance')\n",
        "plt.title(f\"Feature Importance for selected top 10 features \")\n",
        "plt.xticks(rotation=90)\n",
        "plt.show()\n"
      ]
    },
    {
      "cell_type": "markdown",
      "metadata": {
        "id": "1FfiaqfSF6Vj"
      },
      "source": [
        "## Step 4:Compare the Models\n",
        "\n",
        "Next step is to compare the model and find the best one to predict teh salesprice\n"
      ]
    },
    {
      "cell_type": "code",
      "execution_count": null,
      "metadata": {
        "id": "JRM622x7wvfC"
      },
      "outputs": [],
      "source": [
        "from sklearn.ensemble import RandomForestRegressor\n",
        "from sklearn.metrics import mean_squared_error, r2_score\n",
        "import numpy as np\n",
        "\n",
        "def train_evaluate_model(X_train, X_test, y_train, y_test, features, model_name, results_df):\n",
        "    # Reduce training and testing sets to selected features\n",
        "    X_train_reduced = X_train[features]\n",
        "    X_test_reduced = X_test[features]\n",
        "\n",
        "    # Initialize and train the RandomForestRegressor model\n",
        "    model = RandomForestRegressor(oob_score=True, criterion='squared_error', random_state=14)\n",
        "    model.fit(X_train_reduced, y_train)\n",
        "\n",
        "    # Evaluate the model\n",
        "    oob_score = model.oob_score_\n",
        "    y_pred = model.predict(X_test_reduced)\n",
        "    rmse = np.sqrt(mean_squared_error(y_test, y_pred))\n",
        "    r2score = r2_score(y_test, y_pred)\n",
        "\n",
        "    # Print performance metrics\n",
        "    #print(f\"{model_name} - OOB Score: {oob_score:.4f}, RMSE: {rmse:.4f}, R2 Score: {r2score:.4f}\")\n",
        "\n",
        "    # Add results to the DataFrame\n",
        "    new_row = {\"Model\": model_name, \"RMSE\": rmse, \"R2\": r2score}\n",
        "    results_df = results_df.append(new_row, ignore_index=True)\n",
        "\n",
        "    return results_df\n",
        "\n",
        "\n",
        "# Define feature sets\n",
        "features_95 = selected_features_95['Feature'].tolist()\n",
        "features_90 = selected_features_90['Feature'].tolist()\n",
        "features_top_10 = selected_features_top_10['Feature'].tolist()\n",
        "\n",
        "# Train and evaluate models\n",
        "df_reduced_RMSE_R2 = train_evaluate_model(X_train, X_test, y_train, y_test, features_95, \"95% Importance\", df_reduced_RMSE_R2)\n",
        "df_reduced_RMSE_R2 = train_evaluate_model(X_train, X_test, y_train, y_test, features_90, \"90% Importance\", df_reduced_RMSE_R2)\n",
        "df_reduced_RMSE_R2 = train_evaluate_model(X_train, X_test, y_train, y_test, features_top_10, \"Top 10 Features\", df_reduced_RMSE_R2)\n"
      ]
    },
    {
      "cell_type": "code",
      "execution_count": null,
      "metadata": {
        "id": "GpjHXmRcxWll"
      },
      "outputs": [],
      "source": [
        "df_reduced_RMSE_R2"
      ]
    },
    {
      "cell_type": "markdown",
      "metadata": {
        "id": "rqDBO7F4J7lS"
      },
      "source": [
        "10 fold Cross Validation Score"
      ]
    },
    {
      "cell_type": "code",
      "execution_count": null,
      "metadata": {
        "id": "DVghM-jVM93d"
      },
      "outputs": [],
      "source": [
        "print(\"Baseline Model\")\n",
        "scores_rfr = cross_val_score(baseline_model,X_train,y_train,cv=10,scoring='explained_variance')\n",
        "#print('explained variance scores for k=10 fold validation:\\n',scores_rfr)\n",
        "print(\"Est. explained variance: %0.2f (+/- %0.2f)\" % (scores_rfr.mean(), scores_rfr.std() * 2))"
      ]
    },
    {
      "cell_type": "code",
      "execution_count": null,
      "metadata": {
        "id": "UHR31OBWOG0F"
      },
      "outputs": [],
      "source": [
        "print(\"Manual hyper parameter Tuning Model\")\n",
        "scores_rfr = cross_val_score(manual_model,X_train,y_train,cv=10,scoring='explained_variance')\n",
        "#print('explained variance scores for k=10 fold validation:\\n',scores_rfr)\n",
        "print(\"Est. explained variance: %0.2f (+/- %0.2f)\" % (scores_rfr.mean(), scores_rfr.std() * 2))"
      ]
    },
    {
      "cell_type": "code",
      "execution_count": null,
      "metadata": {
        "id": "iNSxOVfFN3N0"
      },
      "outputs": [],
      "source": [
        "print(\"Grid search Model\")\n",
        "scores_rfr = cross_val_score(search_model,X_train,y_train,cv=10,scoring='explained_variance')\n",
        "#print('explained variance scores for k=10 fold validation:\\n',scores_rfr)\n",
        "print(\"Est. explained variance: %0.2f (+/- %0.2f)\" % (scores_rfr.mean(), scores_rfr.std() * 2))"
      ]
    },
    {
      "cell_type": "code",
      "execution_count": null,
      "metadata": {
        "id": "wxEAun0uJ6lT"
      },
      "outputs": [],
      "source": [
        "print(\"Reduced  Model\")\n",
        "scores_rfr = cross_val_score(reduced_model,X_train_reduced,y_train,cv=10,scoring='explained_variance')\n",
        "#print('explained variance scores for k=10 fold validation:\\n',scores_rfr)\n",
        "print(\"Est. explained variance: %0.2f (+/- %0.2f)\" % (scores_rfr.mean(), scores_rfr.std() * 2))"
      ]
    },
    {
      "cell_type": "markdown",
      "source": [
        "# Conclusion\n",
        "\n",
        "Performance of three different regression models:  \n",
        "1. Linear Regression\n",
        "2. Decision Tree\n",
        "3. Random Forest\n",
        "\n",
        "Based on two key metrics:\n",
        "* Root Mean Square Error (RMSE)\n",
        "*  coefficient of determination (R² score).\n",
        "\n",
        "The extremely high RMSE for the Decision Tree model suggests that the model's predictions are, on average, 217254.63 units away from the actual values. This indicates a poor model fit to the data. The RMSE is lower than that of Linear Regression, indicating that the Random Forest model has a tighter fit to the data and, on average, makes errors that are smaller in magnitude.\n",
        "For Random Forest , R2 score is the highest among the three models, suggesting that about 88% of the variance in the target variable is predictable from the features. This implies that the Random Forest model has the highest explanatory power and is the most accurate in predicting the target variable."
      ],
      "metadata": {
        "id": "fT51t0DncCFi"
      }
    },
    {
      "cell_type": "code",
      "source": [],
      "metadata": {
        "id": "X2C6Od6Dzulk"
      },
      "execution_count": null,
      "outputs": []
    }
  ],
  "metadata": {
    "colab": {
      "provenance": []
    },
    "kernelspec": {
      "display_name": "Python 3",
      "name": "python3"
    },
    "language_info": {
      "name": "python"
    }
  },
  "nbformat": 4,
  "nbformat_minor": 0
}